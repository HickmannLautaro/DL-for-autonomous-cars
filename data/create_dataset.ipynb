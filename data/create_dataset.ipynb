{
 "cells": [
  {
   "cell_type": "code",
   "execution_count": 1,
   "metadata": {
    "tags": []
   },
   "outputs": [],
   "source": [
    "import numpy as np\n",
    "import cv2\n",
    "import glob\n",
    "\n",
    "from matplotlib import pyplot as plt\n",
    "%matplotlib inline"
   ]
  },
  {
   "cell_type": "code",
   "execution_count": 2,
   "metadata": {
    "collapsed": false,
    "jupyter": {
     "outputs_hidden": false
    },
    "pycharm": {
     "name": "#%%\n"
    }
   },
   "outputs": [
    {
     "data": {
      "text/plain": [
       "(100,)"
      ]
     },
     "execution_count": 2,
     "metadata": {},
     "output_type": "execute_result"
    }
   ],
   "source": [
    "name= 'New_runs_with_car'\n",
    "file_list=np.array(glob.glob(f\"runs/{name}/**/discrete_histories.npz\"))\n",
    "file_list.shape"
   ]
  },
  {
   "cell_type": "code",
   "execution_count": 3,
   "metadata": {},
   "outputs": [],
   "source": [
    "np.random.shuffle(file_list)\n",
    "train=file_list[:int(file_list.shape[0]*.8)]\n",
    "test = file_list[int(file_list.shape[0]*.8):]"
   ]
  },
  {
   "cell_type": "code",
   "execution_count": 4,
   "metadata": {},
   "outputs": [
    {
     "name": "stdout",
     "output_type": "stream",
     "text": [
      "train  (80,)\n",
      "test  (20,)\n"
     ]
    }
   ],
   "source": [
    "print(\"train \", train.shape)\n",
    "print(\"test \", test.shape)\n",
    "np.savez(f\"runs/{name}/Dataset_div\", train_files=train, test_files=test)"
   ]
  },
  {
   "cell_type": "code",
   "execution_count": 5,
   "metadata": {
    "collapsed": false,
    "jupyter": {
     "outputs_hidden": false
    },
    "pycharm": {
     "name": "#%%\n"
    }
   },
   "outputs": [
    {
     "data": {
      "text/plain": [
       "(18576,)"
      ]
     },
     "execution_count": 5,
     "metadata": {},
     "output_type": "execute_result"
    }
   ],
   "source": [
    "test_targets=[]\n",
    "for file in test:\n",
    "    data = np.load(file)\n",
    "    test_targets+=data[\"input_history\"].tolist()\n",
    "test_targets = np.array(test_targets).flatten() \n",
    "test_targets.shape"
   ]
  },
  {
   "cell_type": "code",
   "execution_count": 48,
   "metadata": {
    "collapsed": false,
    "jupyter": {
     "outputs_hidden": false
    },
    "pycharm": {
     "name": "#%%\n"
    }
   },
   "outputs": [
    {
     "data": {
      "text/plain": [
       "(75632,)"
      ]
     },
     "execution_count": 48,
     "metadata": {},
     "output_type": "execute_result"
    }
   ],
   "source": [
    "train_targets=[]\n",
    "for file in train:\n",
    "    data = np.load(file)\n",
    "    train_targets+=data[\"input_history\"].tolist()\n",
    "train_targets = np.array(train_targets).flatten() \n",
    "train_targets.shape"
   ]
  },
  {
   "cell_type": "code",
   "execution_count": null,
   "metadata": {},
   "outputs": [],
   "source": [
    "fig = plt.figure(figsize=(15,5))\n",
    "X = np.arange(4)\n",
    "\n",
    "plt.title(f\"Dataset target distribution for: \\nTraining dataset {train_targets.shape[0]} examples, from {train.shape[0]} runs \\nTest dataset {test_targets.shape[0]} examples, from {test.shape[0]} runs \")\n",
    "plt.bar(X + 0.00,np.unique(test_targets, return_counts=True)[1], color = 'b', width = 0.25)\n",
    "plt.bar(X + 0.25,np.unique(train_targets, return_counts=True)[1],color = 'g', width = 0.25 )\n",
    "\n",
    "directions = [\"Left\", 'Right', 'Accelerate', \"Brake\" ]\n",
    "plt.legend(labels=['Test', 'Train'])\n",
    "plt.xticks(X, directions)\n",
    "plt.savefig(f\"Plots/dataset_statistics_{name}.png\", dpi=fig.dpi, bbox_inches='tight', pad_inches=0.5)\n",
    "plt.show()\n"
   ]
  },
  {
   "cell_type": "code",
   "execution_count": null,
   "metadata": {},
   "outputs": [],
   "source": [
    "draw_car = False\n",
    "if draw_car:\n",
    "    car = np.load(\"car_positions.npz\")\n",
    "    car_index_red=np.where(car['frame'][ :, :, 0] == 204)\n",
    "    car_index_black = np.where(car['frame'][ :256, :, 0] == 0)\n",
    "\n",
    "input_history_train = []\n",
    "\n",
    "data = np.load(train[0])\n",
    "#input_history_train.append(data[\"input_history\"]) # \n",
    "input_history_train+=data[\"input_history\"].tolist()\n",
    "\n",
    "aux_frame = np.copy(data[\"car_frames\"])\n",
    "if draw_car:\n",
    "    aux_frame[:,car_index_red[0],car_index_red[1],: ] = [204, 0, 0]\n",
    "    aux_frame[:,car_index_black[0],car_index_black[1],: ] = [0, 0, 0]\n",
    "    \n",
    "aux_frame = np.transpose(aux_frame, axes=[0, 3, 1, 2])\n",
    "train_frames = (2 * (aux_frame / 255)) - 1\n",
    "\n",
    "for file in train[1:]:\n",
    "    data = np.load(file)\n",
    "    #input_history_train.append(data[\"input_history\"]) # \n",
    "    input_history_train+=data[\"input_history\"].tolist()\n",
    "    aux_frame = np.copy(data[\"car_frames\"])\n",
    "    if draw_car:\n",
    "        aux_frame[:,car_index_red[0],car_index_red[1],: ] = [204, 0, 0]\n",
    "        aux_frame[:,car_index_black[0],car_index_black[1],: ] = [0, 0, 0]\n",
    "    aux_frame = np.transpose(aux_frame, axes=[0, 3, 1, 2])\n",
    "    aux_frame = (2 * (aux_frame / 255)) - 1\n",
    "    train_frames = np.vstack((train_frames,aux_frame ))\n",
    "\n",
    "input_history_train = np.array(input_history_train).flatten()\n"
   ]
  },
  {
   "cell_type": "code",
   "execution_count": null,
   "metadata": {},
   "outputs": [],
   "source": [
    "input_history = []\n",
    "\n",
    "data = np.load(test[0])\n",
    "#input_history.append(data[\"input_history\"]) # \n",
    "input_history+=data[\"input_history\"].tolist()\n",
    "\n",
    "aux_frame = np.copy(data[\"car_frames\"])\n",
    "if draw_car:\n",
    "    aux_frame[:,car_index_red[0],car_index_red[1],: ] = [204, 0, 0]\n",
    "    aux_frame[:,car_index_black[0],car_index_black[1],: ] = [0, 0, 0]\n",
    "aux_frame = np.transpose(aux_frame, axes=[0, 3, 1, 2])\n",
    "test_frames = (2 * (aux_frame / 255)) - 1\n",
    "\n",
    "for file in test[1:3]:\n",
    "    data = np.load(file)\n",
    "    #input_history.append(data[\"input_history\"]) # \n",
    "    input_history+=data[\"input_history\"].tolist()\n",
    "    \n",
    "    aux_frame = np.copy(data[\"car_frames\"])\n",
    "    if draw_car:\n",
    "        aux_frame[:,car_index_red[0],car_index_red[1],: ] = [204, 0, 0]\n",
    "        aux_frame[:,car_index_black[0],car_index_black[1],: ] = [0, 0, 0]\n",
    "    aux_frame = np.transpose(aux_frame, axes=[0, 3, 1, 2])\n",
    "    aux_frame = (2 * (aux_frame / 255)) - 1\n",
    "    test_frames = np.vstack((test_frames, aux_frame))\n",
    "\n",
    "input_history = np.array(input_history).flatten()"
   ]
  },
  {
   "cell_type": "code",
   "execution_count": null,
   "metadata": {},
   "outputs": [],
   "source": [
    "np.savez_compressed(f\"runs/{name}/Dataset_complete\", train_files=train, test_files=test, input_history_train=input_history_train, train_frames=train_frames, input_history_test=input_history, test_frames=test_frames)"
   ]
  },
  {
   "cell_type": "code",
   "execution_count": null,
   "metadata": {
    "collapsed": false,
    "jupyter": {
     "outputs_hidden": false
    },
    "pycharm": {
     "name": "#%%\n"
    }
   },
   "outputs": [],
   "source": [
    "# data = np.load(\"./runs/Dataset_complete.npz\")\n",
    "#\n",
    "#\n",
    "# data.files\n",
    "#\n",
    "#\n",
    "# input_history_train=data['input_history_train']\n",
    "# train_frames=data['train_frames']\n",
    "# input_history=data['input_history_test']\n",
    "# test_frames=data['test_frames']\n",
    "\n"
   ]
  },
  {
   "cell_type": "markdown",
   "metadata": {},
   "source": [
    "# balance"
   ]
  },
  {
   "cell_type": "code",
   "execution_count": null,
   "metadata": {},
   "outputs": [],
   "source": [
    "indices =np.unique(input_history_train, return_counts=True)[1]\n",
    "indices.sort()\n",
    "indices[::-1]"
   ]
  },
  {
   "cell_type": "code",
   "execution_count": null,
   "metadata": {},
   "outputs": [],
   "source": [
    "equalized_commands = np.append(input_history_train[np.where(input_history_train==1)][:int(indices[::-1][2]*1.1)],input_history_train[np.where(input_history_train==2)][:int(indices[::-1][2]*1.1)])\n",
    "\n",
    "equalized_commands = np.append(equalized_commands,input_history_train[np.where(input_history_train==4)])\n",
    "equalized_commands = np.append(equalized_commands,input_history_train[np.where(input_history_train==3)][:int(indices[::-1][2]*1.1)])"
   ]
  },
  {
   "cell_type": "code",
   "execution_count": null,
   "metadata": {},
   "outputs": [],
   "source": [
    "equalized_frames = np.vstack((train_frames[np.where(input_history_train==1)][:int(indices[::-1][2]*1.1)],train_frames[np.where(input_history_train==2)][:int(indices[::-1][2]*1.1)]))\n",
    "\n",
    "equalized_frames = np.vstack((equalized_frames,train_frames[np.where(input_history_train==4)]))\n",
    "equalized_frames = np.vstack((equalized_frames,train_frames[np.where(input_history_train==3)][:int(indices[::-1][2]*1.1)]))"
   ]
  },
  {
   "cell_type": "code",
   "execution_count": null,
   "metadata": {},
   "outputs": [],
   "source": [
    "fig = plt.figure(figsize=(15,5))\n",
    "X = np.arange(4)\n",
    "\n",
    "plt.title(f\"Dataset target distribution for: \\nTraining dataset {equalized_commands.shape[0]} examples\")\n",
    "plt.bar(X + 0.00,np.unique(equalized_commands, return_counts=True)[1], color = 'b', width = 0.25)\n",
    "plt.bar(X + 0.25,np.unique(input_history_train, return_counts=True)[1],color = 'g', width = 0.25 )\n",
    "\n",
    "directions = [\"Left\", 'Right', 'Accelerate', \"Brake\" ]\n",
    "plt.legend(labels=['Balanced', 'Unbalanced'])\n",
    "plt.xticks(X, directions)\n",
    "plt.savefig(f\"Plots/dataset_statistics_balanced_{name}.png\", dpi=fig.dpi, bbox_inches='tight', pad_inches=0.5)\n",
    "plt.show()"
   ]
  },
  {
   "cell_type": "code",
   "execution_count": null,
   "metadata": {},
   "outputs": [],
   "source": [
    "equalized_frames.shape"
   ]
  },
  {
   "cell_type": "code",
   "execution_count": null,
   "metadata": {},
   "outputs": [],
   "source": [
    "equalized_commands.shape"
   ]
  },
  {
   "cell_type": "code",
   "execution_count": null,
   "metadata": {},
   "outputs": [],
   "source": [
    "equalized_frames.shape,equalized_frames.min(), equalized_frames.max()"
   ]
  },
  {
   "cell_type": "code",
   "execution_count": null,
   "metadata": {},
   "outputs": [],
   "source": [
    "np.savez_compressed(f\"runs/{name}/Dataset_equalized\", input_history_train=equalized_commands, train_frames=equalized_frames, input_history_test=input_history, test_frames=test_frames)"
   ]
  },
  {
   "cell_type": "code",
   "execution_count": null,
   "metadata": {
    "collapsed": false,
    "jupyter": {
     "outputs_hidden": false
    },
    "pycharm": {
     "name": "#%%\n"
    }
   },
   "outputs": [],
   "source": [
    "Staaaaaaaap here"
   ]
  },
  {
   "cell_type": "markdown",
   "metadata": {},
   "source": [
    "# Convert multiple frames and back"
   ]
  },
  {
   "cell_type": "code",
   "execution_count": null,
   "metadata": {},
   "outputs": [],
   "source": [
    "data = np.load(train[0])\n",
    "frame = data[\"car_frames\"][0:2]"
   ]
  },
  {
   "cell_type": "code",
   "execution_count": null,
   "metadata": {},
   "outputs": [],
   "source": [
    "frame.shape,frame.min(), frame.max(),frame.dtype"
   ]
  },
  {
   "cell_type": "code",
   "execution_count": null,
   "metadata": {},
   "outputs": [],
   "source": [
    "plt.imshow(frame[0])"
   ]
  },
  {
   "cell_type": "code",
   "execution_count": null,
   "metadata": {},
   "outputs": [],
   "source": [
    "aux_frame = np.transpose(frame, axes=[0, 3, 1, 2])\n",
    "aux_frame = (2 * (aux_frame / 255)) - 1"
   ]
  },
  {
   "cell_type": "code",
   "execution_count": null,
   "metadata": {},
   "outputs": [],
   "source": [
    "aux_frame.shape,aux_frame.min(), aux_frame.max(),aux_frame.dtype"
   ]
  },
  {
   "cell_type": "code",
   "execution_count": null,
   "metadata": {},
   "outputs": [],
   "source": [
    "conv_frame = np.transpose(aux_frame, axes=[0,2,3,1])"
   ]
  },
  {
   "cell_type": "code",
   "execution_count": null,
   "metadata": {},
   "outputs": [],
   "source": [
    "conv_frame =(((conv_frame + 1)/2)*255).astype(np.uint8)"
   ]
  },
  {
   "cell_type": "code",
   "execution_count": null,
   "metadata": {},
   "outputs": [],
   "source": [
    "conv_frame.shape,conv_frame.min(), conv_frame.max(), conv_frame.dtype"
   ]
  },
  {
   "cell_type": "code",
   "execution_count": null,
   "metadata": {},
   "outputs": [],
   "source": [
    "plt.imshow(conv_frame[0])"
   ]
  },
  {
   "cell_type": "markdown",
   "metadata": {},
   "source": [
    "# Convert one frame and back"
   ]
  },
  {
   "cell_type": "code",
   "execution_count": null,
   "metadata": {},
   "outputs": [],
   "source": [
    "data = np.load(train[0])\n",
    "frame = data[\"car_frames\"][463]"
   ]
  },
  {
   "cell_type": "code",
   "execution_count": null,
   "metadata": {},
   "outputs": [],
   "source": [
    "frame.shape,frame.min(), frame.max(),frame.dtype"
   ]
  },
  {
   "cell_type": "code",
   "execution_count": null,
   "metadata": {},
   "outputs": [],
   "source": [
    "plt.imshow(frame)"
   ]
  },
  {
   "cell_type": "code",
   "execution_count": null,
   "metadata": {},
   "outputs": [],
   "source": [
    "aux_frame = np.transpose(frame, axes=[2, 0, 1])\n",
    "aux_frame = (2 * (aux_frame / 255)) - 1"
   ]
  },
  {
   "cell_type": "code",
   "execution_count": null,
   "metadata": {},
   "outputs": [],
   "source": [
    "aux_frame.shape,aux_frame.min(), aux_frame.max(),aux_frame.dtype"
   ]
  },
  {
   "cell_type": "code",
   "execution_count": null,
   "metadata": {},
   "outputs": [],
   "source": [
    "conv_frame = np.transpose(train_frames[0], axes=[1,2,0])"
   ]
  },
  {
   "cell_type": "code",
   "execution_count": null,
   "metadata": {},
   "outputs": [],
   "source": [
    "conv_frame = (((conv_frame + 1)/2)*255).astype(np.uint8)"
   ]
  },
  {
   "cell_type": "code",
   "execution_count": null,
   "metadata": {},
   "outputs": [],
   "source": [
    "conv_frame.shape,conv_frame.min(), conv_frame.max(), conv_frame.dtype"
   ]
  },
  {
   "cell_type": "code",
   "execution_count": null,
   "metadata": {},
   "outputs": [],
   "source": [
    "plt.imshow(conv_frame)"
   ]
  },
  {
   "cell_type": "markdown",
   "metadata": {},
   "source": [
    "# Add car"
   ]
  },
  {
   "cell_type": "code",
   "execution_count": null,
   "metadata": {},
   "outputs": [],
   "source": [
    "aux_frame = np.copy(data[\"car_frames\"])"
   ]
  },
  {
   "cell_type": "code",
   "execution_count": null,
   "metadata": {},
   "outputs": [],
   "source": [
    "plt.imshow(aux_frame[0])"
   ]
  },
  {
   "cell_type": "code",
   "execution_count": null,
   "metadata": {},
   "outputs": [],
   "source": [
    "aux_frame.shape"
   ]
  },
  {
   "cell_type": "code",
   "execution_count": null,
   "metadata": {},
   "outputs": [],
   "source": [
    "plt.imshow(car['frame'])"
   ]
  },
  {
   "cell_type": "code",
   "execution_count": null,
   "metadata": {},
   "outputs": [],
   "source": []
  },
  {
   "cell_type": "code",
   "execution_count": null,
   "metadata": {},
   "outputs": [],
   "source": [
    "aux_frame[:,car_index_red[0],car_index_red[1],: ] = [204, 0, 0]\n",
    "aux_frame[:,car_index_black[0],car_index_black[1],: ] = [0, 0, 0]"
   ]
  },
  {
   "cell_type": "code",
   "execution_count": null,
   "metadata": {},
   "outputs": [],
   "source": [
    "plt.imshow(aux_frame[0])"
   ]
  },
  {
   "cell_type": "code",
   "execution_count": null,
   "metadata": {},
   "outputs": [],
   "source": []
  }
 ],
 "metadata": {
  "kernelspec": {
   "display_name": "Python 3",
   "language": "python",
   "name": "python3"
  },
  "language_info": {
   "codemirror_mode": {
    "name": "ipython",
    "version": 3
   },
   "file_extension": ".py",
   "mimetype": "text/x-python",
   "name": "python",
   "nbconvert_exporter": "python",
   "pygments_lexer": "ipython3",
   "version": "3.8.8"
  }
 },
 "nbformat": 4,
 "nbformat_minor": 4
}
