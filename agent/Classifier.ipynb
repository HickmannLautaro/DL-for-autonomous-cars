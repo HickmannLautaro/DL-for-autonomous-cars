{
 "cells": [
  {
   "cell_type": "code",
   "execution_count": 1,
   "id": "dd023503-4dc5-400d-8cb3-ccd29818af75",
   "metadata": {},
   "outputs": [],
   "source": [
    "import classifier.AD_test as AD_test\n",
    "import matplotlib.pyplot as plt\n",
    "import numpy as np\n",
    "from glob import glob\n",
    "import torch\n",
    "from tqdm.notebook import trange, tqdm\n",
    "from IPython.utils import io"
   ]
  },
  {
   "cell_type": "code",
   "execution_count": 2,
   "id": "66edc711-3622-430a-bb99-d93778624965",
   "metadata": {},
   "outputs": [
    {
     "name": "stdout",
     "output_type": "stream",
     "text": [
      "26\n"
     ]
    },
    {
     "data": {
      "text/plain": "['out/new_dataset/Nvidia_model_resized_cons_no_bn_bz_128_lr_0.0001_ep_30/statistics.npz',\n 'out/new_dataset/Nvidia_model_resized_bar_bz_128_lr_0.0001_ep_30/statistics.npz',\n 'out/new_dataset/Nvidia_model_bz_128_lr_0.001_ep_30/statistics.npz',\n 'out/new_dataset/Nvidia_model_resized_bz_128_lr_0.001_ep_30/statistics.npz',\n 'out/new_dataset/LeNet_bar_bz_128_lr_0.0001_ep_30/statistics.npz',\n 'out/new_dataset/LeNet_bar_resized_cons_bz_128_lr_0.0001_ep_30/statistics.npz',\n 'out/new_dataset/LeNet_mod_bar_bz_128_lr_0.0001_ep_30/statistics.npz',\n 'out/new_dataset/LeNet_bar_resized_cons_no_bn_bz_128_lr_0.0001_ep_30/statistics.npz',\n 'out/new_dataset/Nvidia_bar_model_resized_cons_no_bn_bz_128_lr_0.0001_ep_30/statistics.npz',\n 'out/new_dataset/LeNet_resized_cons_no_bn_bz_128_lr_0.0001_ep_30/statistics.npz',\n 'out/new_dataset/style_transfer/st_eval_on_generated.npz',\n 'out/new_dataset/style_transfer/st_eval_on_openAI.npz',\n 'out/new_dataset/style_transfer/st_eval_on_generated_old.npz',\n 'out/new_dataset/Nvidia_model_resized_cons_bz_128_lr_0.0001_ep_30/statistics.npz',\n 'out/new_dataset/LeNet_mod_bz_128_lr_0.0001_ep_30/statistics.npz',\n 'out/new_dataset/LeNet_bz_128_lr_0.0001_ep_30/statistics.npz',\n 'out/new_dataset/Nvidia_model_resized_bz_128_lr_0.0001_ep_30/statistics.npz',\n 'out/new_dataset/Nvidia_bar_model_resized_cons_no_bn_bz_256_lr_0.0001_ep_30/statistics.npz',\n 'out/new_dataset/LeNet_bar_resized_bz_128_lr_0.0001_ep_30/statistics.npz',\n 'out/new_dataset/Nvidia_model_bz_128_lr_0.0001_ep_30/statistics.npz',\n 'out/new_dataset/Nvidia_bar_model_resized_cons_bz_128_lr_0.0001_ep_30/statistics.npz',\n 'out/new_dataset/LeNet_resized_bz_128_lr_0.0001_ep_30/statistics.npz',\n 'out/new_dataset/Nvidia_model_bar_bz_128_lr_0.0001_ep_30/statistics.npz',\n 'out/new_dataset/LeNet_bz_128_lr_0.001_ep_30/statistics.npz',\n 'out/new_dataset/LeNet_mod_bz_128_lr_0.001_ep_30/statistics.npz',\n 'out/new_dataset/LeNet_resized_cons_bz_128_lr_0.0001_ep_30/statistics.npz']"
     },
     "execution_count": 2,
     "metadata": {},
     "output_type": "execute_result"
    }
   ],
   "source": [
    "useful_runs_list=[]\n",
    "stats = glob(\"out/new_dataset/**/*.npz\")\n",
    "print(len(stats))\n",
    "stats"
   ]
  },
  {
   "cell_type": "code",
   "execution_count": 3,
   "outputs": [
    {
     "data": {
      "text/plain": "['out/new_dataset/Nvidia_model_resized_cons_no_bn_bz_128_lr_0.0001_ep_30/statistics.npz',\n 'out/new_dataset/Nvidia_model_resized_bar_bz_128_lr_0.0001_ep_30/statistics.npz',\n 'out/new_dataset/Nvidia_model_bz_128_lr_0.001_ep_30/statistics.npz',\n 'out/new_dataset/Nvidia_model_resized_bz_128_lr_0.001_ep_30/statistics.npz',\n 'out/new_dataset/LeNet_bar_bz_128_lr_0.0001_ep_30/statistics.npz',\n 'out/new_dataset/LeNet_bar_resized_cons_bz_128_lr_0.0001_ep_30/statistics.npz',\n 'out/new_dataset/LeNet_mod_bar_bz_128_lr_0.0001_ep_30/statistics.npz',\n 'out/new_dataset/LeNet_bar_resized_cons_no_bn_bz_128_lr_0.0001_ep_30/statistics.npz',\n 'out/new_dataset/Nvidia_bar_model_resized_cons_no_bn_bz_128_lr_0.0001_ep_30/statistics.npz',\n 'out/new_dataset/LeNet_resized_cons_no_bn_bz_128_lr_0.0001_ep_30/statistics.npz',\n 'out/new_dataset/Nvidia_model_resized_cons_bz_128_lr_0.0001_ep_30/statistics.npz',\n 'out/new_dataset/LeNet_mod_bz_128_lr_0.0001_ep_30/statistics.npz',\n 'out/new_dataset/LeNet_bz_128_lr_0.0001_ep_30/statistics.npz',\n 'out/new_dataset/Nvidia_model_resized_bz_128_lr_0.0001_ep_30/statistics.npz',\n 'out/new_dataset/Nvidia_bar_model_resized_cons_no_bn_bz_256_lr_0.0001_ep_30/statistics.npz',\n 'out/new_dataset/LeNet_bar_resized_bz_128_lr_0.0001_ep_30/statistics.npz',\n 'out/new_dataset/Nvidia_model_bz_128_lr_0.0001_ep_30/statistics.npz',\n 'out/new_dataset/Nvidia_bar_model_resized_cons_bz_128_lr_0.0001_ep_30/statistics.npz',\n 'out/new_dataset/LeNet_resized_bz_128_lr_0.0001_ep_30/statistics.npz',\n 'out/new_dataset/Nvidia_model_bar_bz_128_lr_0.0001_ep_30/statistics.npz',\n 'out/new_dataset/LeNet_bz_128_lr_0.001_ep_30/statistics.npz',\n 'out/new_dataset/LeNet_mod_bz_128_lr_0.001_ep_30/statistics.npz',\n 'out/new_dataset/LeNet_resized_cons_bz_128_lr_0.0001_ep_30/statistics.npz']"
     },
     "execution_count": 3,
     "metadata": {},
     "output_type": "execute_result"
    }
   ],
   "source": [
    "stats.remove('out/new_dataset/style_transfer/st_eval_on_generated.npz')\n",
    "stats.remove('out/new_dataset/style_transfer/st_eval_on_openAI.npz')\n",
    "stats.remove('out/new_dataset/style_transfer/st_eval_on_generated_old.npz')\n",
    "stats"
   ],
   "metadata": {
    "collapsed": false,
    "pycharm": {
     "name": "#%%\n"
    }
   }
  },
  {
   "cell_type": "code",
   "execution_count": 4,
   "outputs": [
    {
     "name": "stdout",
     "output_type": "stream",
     "text": [
      "(8, 3)\n"
     ]
    },
    {
     "data": {
      "text/plain": "array([['out/new_dataset/Nvidia_model_bz_128_lr_0.001_ep_30/statistics.npz',\n        '821.6784215784066', '9'],\n       ['out/new_dataset/LeNet_bar_resized_cons_bz_128_lr_0.0001_ep_30/statistics.npz',\n        '856.8464991493095', '15'],\n       ['out/new_dataset/LeNet_mod_bar_bz_128_lr_0.0001_ep_30/statistics.npz',\n        '831.8222044784992', '9'],\n       ['out/new_dataset/Nvidia_bar_model_resized_cons_no_bn_bz_128_lr_0.0001_ep_30/statistics.npz',\n        '818.4782744796379', '27'],\n       ['out/new_dataset/LeNet_bar_resized_bz_128_lr_0.0001_ep_30/statistics.npz',\n        '855.4343907639357', '24'],\n       ['out/new_dataset/Nvidia_bar_model_resized_cons_bz_128_lr_0.0001_ep_30/statistics.npz',\n        '841.1044719642064', '27'],\n       ['out/new_dataset/LeNet_resized_bz_128_lr_0.0001_ep_30/statistics.npz',\n        '840.0532295305022', '0'],\n       ['out/new_dataset/Nvidia_model_resized_cons_no_bn_bz_128_lr_0.0001_ep_30/statistics.npz',\n        '773.3215706272156', '24']], dtype='<U89')"
     },
     "execution_count": 4,
     "metadata": {},
     "output_type": "execute_result"
    }
   ],
   "source": [
    "for file in stats:\n",
    "    data = np.load(file, allow_pickle=True)\n",
    "    max_mean_rew = [np.mean([data['r_histos'][i][-1], data['r_histos'][i+1][-1]]) for i in np.arange(0,22,2)]\n",
    "    if np.max(max_mean_rew) > 800:\n",
    "        useful_runs_list.append([file, np.max(max_mean_rew), (np.argmax(max_mean_rew) if np.argmax(max_mean_rew) < 10 else 9)*3])\n",
    "\n",
    "useful_runs_list.append(['out/new_dataset/Nvidia_model_resized_cons_no_bn_bz_128_lr_0.0001_ep_30/statistics.npz',\n",
    "        '773.3215706272156', '24'])\n",
    "useful_runs_list = np.array(useful_runs_list)\n",
    "print(useful_runs_list.shape)\n",
    "useful_runs_list\n",
    "# out/new_dataset/Nvidia_model_resized_cons_no_bn_bz_128_lr_0.0001_ep_30/model_ep_3.pth 789.926"
   ],
   "metadata": {
    "collapsed": false,
    "pycharm": {
     "name": "#%%\n"
    }
   }
  },
  {
   "cell_type": "code",
   "execution_count": 5,
   "outputs": [
    {
     "data": {
      "text/plain": "array([['out/new_dataset/Nvidia_model_bz_128_lr_0.001_ep_30/statistics.npz',\n        '821.6784215784066', '9'],\n       ['out/new_dataset/LeNet_bar_resized_cons_bz_128_lr_0.0001_ep_30/statistics.npz',\n        '856.8464991493095', '15'],\n       ['out/new_dataset/Nvidia_bar_model_resized_cons_bz_128_lr_0.0001_ep_30/statistics.npz',\n        '841.1044719642064', '27'],\n       ['out/new_dataset/LeNet_resized_bz_128_lr_0.0001_ep_30/statistics.npz',\n        '840.0532295305022', '0'],\n       ['out/new_dataset/Nvidia_model_resized_cons_no_bn_bz_128_lr_0.0001_ep_30/statistics.npz',\n        '773.3215706272156', '24']], dtype='<U89')"
     },
     "execution_count": 5,
     "metadata": {},
     "output_type": "execute_result"
    }
   ],
   "source": [
    "useful_runs_list=useful_runs_list[[0,1,5,6,7],:]\n",
    "useful_runs_list"
   ],
   "metadata": {
    "collapsed": false,
    "pycharm": {
     "name": "#%%\n"
    }
   }
  },
  {
   "cell_type": "code",
   "execution_count": 6,
   "outputs": [
    {
     "data": {
      "text/plain": "<Figure size 432x288 with 1 Axes>",
      "image/png": "[encoded data removed]"
     },
     "metadata": {
      "needs_background": "light"
     },
     "output_type": "display_data"
    }
   ],
   "source": [
    "plt.boxplot(useful_runs_list[:,1].astype(float));"
   ],
   "metadata": {
    "collapsed": false,
    "pycharm": {
     "name": "#%%\n"
    }
   }
  },
  {
   "cell_type": "code",
   "execution_count": 7,
   "outputs": [],
   "source": [
    "# model_vals=[]\n",
    "#\n",
    "# for run in tqdm(useful_runs_list, desc=\"Models\"):\n",
    "#     file,expected,ep= run\n",
    "#     mod = f\"{file[:-14]}model_ep_{int(ep)}.pth\"\n",
    "#     torch.cuda.empty_cache()\n",
    "#     if \"bar\" in file:\n",
    "#         dim =288\n",
    "#     else:\n",
    "#         dim= 256\n",
    "#\n",
    "#     rew_list=[]\n",
    "#     for i in trange(10, desc='Simulation runs', leave = False):\n",
    "#         with io.capture_output() as captured:\n",
    "#             rew, _ = AD_test.main(False, mod, None, None, dim);\n",
    "#         rew_list.append(rew)\n",
    "#     rew_list = np.array(rew_list)\n",
    "#     model_vals.append([mod, rew_list])\n",
    "#\n",
    "# np.savez(\"out/new_dataset/Classifiers_eval\", model_vals=model_vals)"
   ],
   "metadata": {
    "collapsed": false,
    "pycharm": {
     "name": "#%%\n"
    }
   }
  },
  {
   "cell_type": "code",
   "execution_count": 8,
   "outputs": [],
   "source": [
    "data1 = np.load(\"out/new_dataset/Classifiers_eval.npz\", allow_pickle=True)\n",
    "model_vals = data1['model_vals']"
   ],
   "metadata": {
    "collapsed": false,
    "pycharm": {
     "name": "#%%\n"
    }
   }
  },
  {
   "cell_type": "code",
   "execution_count": 9,
   "outputs": [
    {
     "name": "stdout",
     "output_type": "stream",
     "text": [
      "out/new_dataset/Nvidia_model_bz_128_lr_0.001_ep_30/model_ep_9.pth 735.6485793802406 index 0\n",
      "out/new_dataset/LeNet_bar_resized_cons_bz_128_lr_0.0001_ep_30/model_ep_15.pth 319.5340253887508 index 1\n",
      "out/new_dataset/Nvidia_bar_model_resized_cons_bz_128_lr_0.0001_ep_30/model_ep_27.pth 721.1091047832929 index 2\n",
      "out/new_dataset/LeNet_resized_bz_128_lr_0.0001_ep_30/model_ep_0.pth 505.30388280713294 index 3\n",
      "out/new_dataset/Nvidia_model_resized_cons_no_bn_bz_128_lr_0.0001_ep_30/model_ep_24.pth 422.3346279111082 index 4\n"
     ]
    }
   ],
   "source": [
    "for i, vals in enumerate(model_vals):\n",
    "    print(vals[0], np.mean([[v[-1] for v in vals[1]]]), \"index\", i )\n",
    "\n",
    "# out/new_dataset/Nvidia_model_resized_cons_no_bn_bz_128_lr_0.0001_ep_30/model_ep_3.pth 789.926"
   ],
   "metadata": {
    "collapsed": false,
    "pycharm": {
     "name": "#%%\n"
    }
   }
  },
  {
   "cell_type": "code",
   "execution_count": 10,
   "outputs": [
    {
     "name": "stdout",
     "output_type": "stream",
     "text": [
      "['out/new_dataset/style_transfer/Nvidia_model_bz_128_lr_0.001_ep_30/style_green/statistics.npz', 'out/new_dataset/style_transfer/Nvidia_model_bz_128_lr_0.001_ep_30/style_brown/statistics.npz', 'out/new_dataset/style_transfer/Nvidia_model_bz_128_lr_0.001_ep_30/style_mixed/statistics.npz']\n",
      "(3, 3)\n"
     ]
    },
    {
     "data": {
      "text/plain": "array([['out/new_dataset/style_transfer/Nvidia_model_bz_128_lr_0.001_ep_30/style_green/statistics.npz',\n        '750.8326007325859', '24'],\n       ['out/new_dataset/style_transfer/Nvidia_model_bz_128_lr_0.001_ep_30/style_brown/statistics.npz',\n        '728.8323897476923', '6'],\n       ['out/new_dataset/style_transfer/Nvidia_model_bz_128_lr_0.001_ep_30/style_mixed/statistics.npz',\n        '653.0886790803229', '0']], dtype='<U92')"
     },
     "execution_count": 10,
     "metadata": {},
     "output_type": "execute_result"
    },
    {
     "data": {
      "text/plain": "<Figure size 432x288 with 1 Axes>",
      "image/png": "[encoded data removed]"
     },
     "metadata": {
      "needs_background": "light"
     },
     "output_type": "display_data"
    }
   ],
   "source": [
    "st_runs_list=[]\n",
    "st_stats = glob(\"out/new_dataset/style_transfer/Nvidia_model_bz_128_lr_0.001_ep_30/**/*.npz\")\n",
    "print(st_stats)\n",
    "\n",
    "for file in st_stats:\n",
    "    data = np.load(file, allow_pickle=True)\n",
    "    max_mean_rew = [np.mean([data['r_histos'][i][-1], data['r_histos'][i+1][-1]]) for i in np.arange(0,22,2)]\n",
    "\n",
    "    st_runs_list.append([file, np.max(max_mean_rew),(np.argmax(max_mean_rew) if np.argmax(max_mean_rew) < 10 else 9)*3])\n",
    "st_runs_list = np.array(st_runs_list)\n",
    "print(st_runs_list.shape)\n",
    "\n",
    "\n",
    "plt.boxplot(st_runs_list[:,1].astype(float));\n",
    "st_runs_list"
   ],
   "metadata": {
    "collapsed": false,
    "pycharm": {
     "name": "#%%\n"
    }
   }
  },
  {
   "cell_type": "code",
   "execution_count": 11,
   "outputs": [],
   "source": [
    "data = np.load(\"out/new_dataset/style_transfer/st_eval_on_generated.npz\", allow_pickle=True)\n",
    "style_0=data['style_0']\n",
    "style_1=data['style_1']\n",
    "st_model_vals=data['st_model_vals']"
   ],
   "metadata": {
    "collapsed": false,
    "pycharm": {
     "name": "#%%\n"
    }
   }
  },
  {
   "cell_type": "code",
   "execution_count": 12,
   "outputs": [
    {
     "name": "stdout",
     "output_type": "stream",
     "text": [
      "out/old_dataset/LeNet_mod_bz_128_lr_0.0001_ep_30/model_ep_3.pth 618.3815270806456 index 0\n",
      "out/old_dataset/Nvidia_bar_model_resized_cons_no_bn_bz_256_lr_0.0001_ep_30/model_ep_0.pth 300.4718330816789 index 1\n",
      "out/new_dataset/Nvidia_model_bz_128_lr_0.001_ep_30/model_ep_9.pth 750.0100398844664 index 2\n",
      "out/new_dataset/Nvidia_bar_model_resized_cons_bz_128_lr_0.0001_ep_30/model_ep_27.pth 671.4235779023686 index 3\n",
      "out/new_dataset/style_transfer/Nvidia_model_bz_128_lr_0.001_ep_30/style_green/model_ep_24.pth -40.17638420027506 index 4\n",
      "out/new_dataset/style_transfer/Nvidia_model_bz_128_lr_0.001_ep_30/style_brown/model_ep_6.pth -76.66657538784766 index 5\n",
      "out/new_dataset/style_transfer/Nvidia_model_bz_128_lr_0.001_ep_30/style_mixed/model_ep_0.pth -25.734498652761562 index 6\n"
     ]
    }
   ],
   "source": [
    "for i, vals in enumerate(st_model_vals):\n",
    "    print(vals[0], np.mean([[v[-1] for v in vals[1]]]), \"index\", i )"
   ],
   "metadata": {
    "collapsed": false,
    "pycharm": {
     "name": "#%%\n"
    }
   }
  },
  {
   "cell_type": "code",
   "execution_count": 13,
   "outputs": [],
   "source": [
    "data = np.load(\"out/old_dataset/Classifiers_eval.npz\", allow_pickle=True)"
   ],
   "metadata": {
    "collapsed": false,
    "pycharm": {
     "name": "#%%\n"
    }
   }
  },
  {
   "cell_type": "code",
   "execution_count": 14,
   "outputs": [],
   "source": [
    "model_vals_old_data = data['arr_0']"
   ],
   "metadata": {
    "collapsed": false,
    "pycharm": {
     "name": "#%%\n"
    }
   }
  },
  {
   "cell_type": "code",
   "execution_count": 15,
   "outputs": [
    {
     "name": "stdout",
     "output_type": "stream",
     "text": [
      "out/Nvidia_bar_model_resized_cons_bz_256_lr_0.0001_ep_30/model_ep_18.pth 444.4171671737132 index 0\n",
      "out/Nvidia_model_resized_bz_64_lr_0.0001_ep_30/model_ep_15.pth 594.3257691311927 index 1\n",
      "out/LeNet_mod_bz_64_lr_0.0001_ep_30/model_ep_0.pth 653.3480054862666 index 2\n",
      "out/Nvidia_model_resized_bar_bz_256_lr_0.001_ep_30/model_ep_12.pth 573.3660606544414 index 3\n",
      "out/Nvidia_model_bz_256_lr_0.0001_ep_30/model_ep_18.pth 573.7934920137321 index 4\n",
      "out/LeNet_mod_bz_128_lr_0.0001_ep_30/model_ep_3.pth 738.5943999116076 index 5\n",
      "out/LeNet_resized_cons_no_bn_bz_64_lr_0.001_ep_30/model_ep_9.pth 513.8843771016221 index 6\n",
      "out/Nvidia_model_resized_cons_no_bn_bz_256_lr_0.001_ep_30/model_ep_3.pth 675.5836740793337 index 7\n",
      "out/LeNet_bar_resized_cons_no_bn_bz_64_lr_0.0001_ep_30/model_ep_21.pth 580.0682033508656 index 8\n",
      "out/LeNet_bar_resized_cons_no_bn_bz_256_lr_0.001_ep_30/model_ep_6.pth 339.5994587594741 index 9\n",
      "out/LeNet_resized_cons_bz_128_lr_0.001_ep_30/model_ep_0.pth 692.1173826211203 index 10\n",
      "out/Nvidia_bar_model_resized_cons_no_bn_bz_256_lr_0.0001_ep_30/model_ep_0.pth 643.763041599401 index 11\n",
      "out/LeNet_mod_bz_256_lr_0.0001_ep_30/model_ep_3.pth 707.8609006218804 index 12\n"
     ]
    }
   ],
   "source": [
    "for i, vals in enumerate(model_vals_old_data):\n",
    "    print(vals[0], np.mean([[v[-1] for v in vals[1]]]), \"index\", i )\n"
   ],
   "metadata": {
    "collapsed": false,
    "pycharm": {
     "name": "#%%\n"
    }
   }
  },
  {
   "cell_type": "markdown",
   "source": [
    "\n",
    "# new dataste\n",
    "* Best model without bar:\n",
    "    * out/new_dataset/Nvidia_model_bz_128_lr_0.001_ep_30/model_ep_9.pth 735.6485793802406 index 0\n",
    "* Best model with bar:\n",
    "    * out/new_dataset/Nvidia_bar_model_resized_cons_bz_128_lr_0.0001_ep_30/model_ep_27.pth  644.650 index 6\n",
    "\n",
    "# Old dataset\n",
    "* Best model without bar:\n",
    "    * out/old_dataset/LeNet_mod_bz_128_lr_0.0001_ep_30/model_ep_3.pth 738.5943999116076\n",
    "* Best model with bar:\n",
    "    * out/old_dataset/Nvidia_bar_model_resized_cons_no_bn_bz_256_lr_0.0001_ep_30/model_ep_0.pth 643.763041599401\n",
    "\n",
    "\n",
    "* out/new_dataset/style_transfer/Nvidia_model_resized_cons_no_bn_bz_128_lr_0.0001_ep_30/style_green/model_ep_24.pth\n",
    "* out/new_dataset/style_transfer/Nvidia_model_resized_cons_no_bn_bz_128_lr_0.0001_ep_30/style_brown/model_ep_15.pth\n",
    "* out/new_dataset/style_transfer/Nvidia_model_resized_cons_no_bn_bz_128_lr_0.0001_ep_30/style_mixed/model_ep_18.pth\n"
   ],
   "metadata": {
    "collapsed": false
   }
  },
  {
   "cell_type": "code",
   "execution_count": 16,
   "outputs": [
    {
     "data": {
      "text/plain": "['train_files', 'test_files']"
     },
     "execution_count": 16,
     "metadata": {},
     "output_type": "execute_result"
    }
   ],
   "source": [
    "div_data = np.load(\"../runs/New_runs_with_car/Dataset_div.npz\")\n",
    "div_data.files"
   ],
   "metadata": {
    "collapsed": false,
    "pycharm": {
     "name": "#%%\n"
    }
   }
  },
  {
   "cell_type": "code",
   "execution_count": 17,
   "outputs": [
    {
     "name": "stdout",
     "output_type": "stream",
     "text": [
      "runs/New_runs_with_car/2021-06-29 16:38:05.479982/discrete_histories.npz\n",
      "runs/New_runs_with_car/2021-06-29 16:23:41.048150/discrete_histories.npz\n",
      "runs/New_runs_with_car/2021-06-29 19:48:07.739925/discrete_histories.npz\n",
      "runs/New_runs_with_car/2021-06-29 16:48:50.495339/discrete_histories.npz\n",
      "runs/New_runs_with_car/2021-06-29 18:33:34.677150/discrete_histories.npz\n",
      "runs/New_runs_with_car/2021-06-29 19:17:39.922492/discrete_histories.npz\n",
      "runs/New_runs_with_car/2021-06-29 18:28:42.346106/discrete_histories.npz\n",
      "runs/New_runs_with_car/2021-06-29 18:24:17.334509/discrete_histories.npz\n",
      "runs/New_runs_with_car/2021-06-29 16:15:30.820242/discrete_histories.npz\n",
      "runs/New_runs_with_car/2021-06-29 16:24:58.067796/discrete_histories.npz\n",
      "runs/New_runs_with_car/2021-06-29 19:19:59.772719/discrete_histories.npz\n",
      "runs/New_runs_with_car/2021-06-29 19:28:42.756503/discrete_histories.npz\n",
      "runs/New_runs_with_car/2021-06-29 19:02:20.321908/discrete_histories.npz\n",
      "runs/New_runs_with_car/2021-06-29 16:22:57.020179/discrete_histories.npz\n",
      "runs/New_runs_with_car/2021-06-29 17:59:42.033296/discrete_histories.npz\n",
      "runs/New_runs_with_car/2021-06-29 19:33:14.065853/discrete_histories.npz\n",
      "runs/New_runs_with_car/2021-06-29 18:52:14.981096/discrete_histories.npz\n",
      "runs/New_runs_with_car/2021-06-29 19:15:31.142546/discrete_histories.npz\n",
      "runs/New_runs_with_car/2021-06-29 15:58:09.657188/discrete_histories.npz\n",
      "runs/New_runs_with_car/2021-06-29 16:56:40.123602/discrete_histories.npz\n",
      "runs/New_runs_with_car/2021-06-29 19:37:44.214799/discrete_histories.npz\n",
      "runs/New_runs_with_car/2021-06-29 17:22:08.889113/discrete_histories.npz\n",
      "runs/New_runs_with_car/2021-06-29 18:54:31.773155/discrete_histories.npz\n",
      "runs/New_runs_with_car/2021-06-29 15:57:33.879322/discrete_histories.npz\n",
      "runs/New_runs_with_car/2021-06-29 19:06:31.354830/discrete_histories.npz\n",
      "runs/New_runs_with_car/2021-06-29 19:26:00.821064/discrete_histories.npz\n",
      "runs/New_runs_with_car/2021-06-29 19:29:21.123426/discrete_histories.npz\n",
      "runs/New_runs_with_car/2021-06-29 17:57:42.885462/discrete_histories.npz\n",
      "runs/New_runs_with_car/2021-06-29 15:43:37.486891/discrete_histories.npz\n",
      "runs/New_runs_with_car/2021-06-29 18:43:56.352052/discrete_histories.npz\n",
      "runs/New_runs_with_car/2021-06-29 18:45:38.142721/discrete_histories.npz\n",
      "runs/New_runs_with_car/2021-06-29 16:42:16.536406/discrete_histories.npz\n",
      "runs/New_runs_with_car/2021-06-29 16:40:16.058772/discrete_histories.npz\n",
      "runs/New_runs_with_car/2021-06-29 15:59:59.743257/discrete_histories.npz\n",
      "runs/New_runs_with_car/2021-06-29 18:31:44.018211/discrete_histories.npz\n",
      "runs/New_runs_with_car/2021-06-29 16:16:38.929009/discrete_histories.npz\n",
      "runs/New_runs_with_car/2021-06-29 16:14:55.215586/discrete_histories.npz\n",
      "runs/New_runs_with_car/2021-06-29 18:26:36.457748/discrete_histories.npz\n",
      "runs/New_runs_with_car/2021-06-29 19:34:23.398442/discrete_histories.npz\n",
      "runs/New_runs_with_car/2021-06-29 15:59:24.230989/discrete_histories.npz\n",
      "runs/New_runs_with_car/2021-06-29 18:22:09.078945/discrete_histories.npz\n",
      "runs/New_runs_with_car/2021-06-29 16:24:16.481366/discrete_histories.npz\n",
      "runs/New_runs_with_car/2021-06-29 17:31:39.257865/discrete_histories.npz\n",
      "runs/New_runs_with_car/2021-06-29 18:43:21.734452/discrete_histories.npz\n",
      "runs/New_runs_with_car/2021-06-29 18:40:54.702892/discrete_histories.npz\n",
      "runs/New_runs_with_car/2021-06-29 15:54:20.569986/discrete_histories.npz\n",
      "runs/New_runs_with_car/2021-06-29 16:52:10.833114/discrete_histories.npz\n",
      "runs/New_runs_with_car/2021-06-29 19:54:38.817327/discrete_histories.npz\n",
      "runs/New_runs_with_car/2021-06-29 18:30:49.515536/discrete_histories.npz\n",
      "runs/New_runs_with_car/2021-06-29 17:22:43.688225/discrete_histories.npz\n",
      "runs/New_runs_with_car/2021-06-29 16:48:15.738315/discrete_histories.npz\n",
      "runs/New_runs_with_car/2021-06-29 15:58:45.262246/discrete_histories.npz\n",
      "runs/New_runs_with_car/2021-06-29 18:27:11.005390/discrete_histories.npz\n",
      "runs/New_runs_with_car/2021-06-29 19:45:41.082870/discrete_histories.npz\n",
      "runs/New_runs_with_car/2021-06-29 17:35:52.960559/discrete_histories.npz\n",
      "runs/New_runs_with_car/2021-06-29 16:20:11.992906/discrete_histories.npz\n",
      "runs/New_runs_with_car/2021-06-29 16:20:47.323146/discrete_histories.npz\n"
     ]
    }
   ],
   "source": [
    "old_dataset_rew = []\n",
    "for file in div_data['train_files']:\n",
    "    data = np.load(\"../\"+file)\n",
    "    aux = data[\"r_history\"]\n",
    "    if aux[-1] < 900:\n",
    "        print(file)\n",
    "        #exit()\n",
    "    else:\n",
    "        old_dataset_rew += [aux[-1]]"
   ],
   "metadata": {
    "collapsed": false,
    "pycharm": {
     "name": "#%%\n"
    }
   }
  },
  {
   "cell_type": "code",
   "execution_count": 18,
   "outputs": [
    {
     "data": {
      "text/plain": "['train_files', 'test_files']"
     },
     "execution_count": 18,
     "metadata": {},
     "output_type": "execute_result"
    }
   ],
   "source": [
    "div_data = np.load(\"../runs/New_runs_with_car_corrected/Dataset_div.npz\")\n",
    "div_data.files"
   ],
   "metadata": {
    "collapsed": false,
    "pycharm": {
     "name": "#%%\n"
    }
   }
  },
  {
   "cell_type": "code",
   "execution_count": 19,
   "outputs": [],
   "source": [
    "rew_new = []\n",
    "for file in div_data['train_files']:\n",
    "    data = np.load(\"../\"+file)\n",
    "    aux = data[\"r_history\"]\n",
    "    if aux[-1] < 900:\n",
    "        print(file)\n",
    "        exit()\n",
    "    rew_new += [aux[-1]]\n",
    "\n",
    "\n",
    "\n",
    "\n"
   ],
   "metadata": {
    "collapsed": false,
    "pycharm": {
     "name": "#%%\n"
    }
   }
  },
  {
   "cell_type": "code",
   "execution_count": 21,
   "outputs": [
    {
     "data": {
      "text/plain": "<Figure size 2160x1080 with 3 Axes>",
      "image/png": "[encoded data removed]"
     },
     "metadata": {
      "needs_background": "light"
     },
     "output_type": "display_data"
    }
   ],
   "source": [
    "fig, ax = plt.subplots(3, figsize=(30,15))\n",
    "fig.suptitle(\"Cumulative end reward over 10 repetitions\")\n",
    "ax[0].boxplot([old_dataset_rew,rew_new]+[[j[-1] for j in v[1]] for v in st_model_vals], positions=[0,1,2,3,4,5,6,7,8] )\n",
    "ax[0].set_xticks([0, 1, 2,3,4,5,6,7,8])\n",
    "ax[0].set_xticklabels([\"original runs old\", \"original runs new\", \"od LeNet_mod\", \"od Nvidia_bar_resized_cons_no_bn\", \"Nvidia_resized_cons_no_bn\", \"Nvidia_bar_resized_cons\", \"Nvidia model green\",\"Nvidia model brown\",\"Nvidia model mixed\"])\n",
    "ax[0].set_ylabel(\"OpenAI\")\n",
    "\n",
    "ax[1].boxplot([[j[-1] for j in v[1]] for v in style_0], positions=[2,3,4,5,6,7,8] )\n",
    "ax[1].set_xticks([0, 1, 2,3,4,5,6,7,8])\n",
    "ax[1].set_xticklabels([\" \", \" \", \"od LeNet_mod\", \"od Nvidia_bar_resized_cons_no_bn\", \"Nvidia_resized_cons_no_bn\", \"Nvidia_bar_resized_cons\", \"Nvidia model green\",\"Nvidia model brown\",\"Nvidia model mixed\"])\n",
    "ax[1].set_ylabel(\"green style \")\n",
    "\n",
    "\n",
    "ax[2].boxplot([[j[-1] for j in v[1]] for v in style_1], positions=[2,3,4,5,6,7,8] )\n",
    "ax[2].set_xticks([0, 1, 2,3,4,5,6,7,8])\n",
    "ax[2].set_xticklabels([\" \", \" \", \"od LeNet_mod\", \"od Nvidia_bar_resized_cons_no_bn\", \"Nvidia_resized_cons_no_bn\", \"Nvidia_bar_resized_cons\", \"Nvidia model green\",\"Nvidia model brown\",\"Nvidia model mixed\"])\n",
    "ax[2].set_ylabel(\"brown style\")\n",
    "plt.savefig(\"../Slides/new_figures/reward_comp.png\", dpi=fig.dpi, bbox_inches='tight', pad_inches=0.5)\n",
    "plt.show()"
   ],
   "metadata": {
    "collapsed": false,
    "pycharm": {
     "name": "#%%\n"
    }
   }
  },
  {
   "cell_type": "code",
   "execution_count": 20,
   "outputs": [],
   "source": [],
   "metadata": {
    "collapsed": false,
    "pycharm": {
     "name": "#%%\n"
    }
   }
  },
  {
   "cell_type": "code",
   "execution_count": 20,
   "outputs": [],
   "source": [
    "\n"
   ],
   "metadata": {
    "collapsed": false,
    "pycharm": {
     "name": "#%%\n"
    }
   }
  },
  {
   "cell_type": "code",
   "execution_count": 20,
   "outputs": [],
   "source": [],
   "metadata": {
    "collapsed": false,
    "pycharm": {
     "name": "#%%\n"
    }
   }
  },
  {
   "cell_type": "code",
   "execution_count": 20,
   "outputs": [],
   "source": [],
   "metadata": {
    "collapsed": false,
    "pycharm": {
     "name": "#%%\n"
    }
   }
  },
  {
   "cell_type": "code",
   "execution_count": 20,
   "outputs": [],
   "source": [],
   "metadata": {
    "collapsed": false,
    "pycharm": {
     "name": "#%%\n"
    }
   }
  }
 ],
 "metadata": {
  "kernelspec": {
   "display_name": "Python 3",
   "language": "python",
   "name": "python3"
  },
  "language_info": {
   "codemirror_mode": {
    "name": "ipython",
    "version": 3
   },
   "file_extension": ".py",
   "mimetype": "text/x-python",
   "name": "python",
   "nbconvert_exporter": "python",
   "pygments_lexer": "ipython3",
   "version": "3.8.8"
  }
 },
 "nbformat": 4,
 "nbformat_minor": 5
}