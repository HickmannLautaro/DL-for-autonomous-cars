{
 "cells": [
  {
   "cell_type": "code",
   "execution_count": 1,
   "id": "5fa92bdf-9df1-4bee-a9b7-789a1cc3e522",
   "metadata": {},
   "outputs": [],
   "source": [
    "import numpy as np\n",
    "import matplotlib.pyplot as plt"
   ]
  },
  {
   "cell_type": "code",
   "execution_count": null,
   "id": "1bbfc86b-214d-4455-896e-f78fbc81d9b1",
   "metadata": {},
   "outputs": [],
   "source": []
  },
  {
   "cell_type": "code",
   "execution_count": null,
   "id": "500e84dd-3de6-4b4b-a79f-aa2b38d68d88",
   "metadata": {},
   "outputs": [],
   "source": []
  },
  {
   "cell_type": "code",
   "execution_count": null,
   "id": "172ca7a1-957e-43b7-b242-7fe880be3941",
   "metadata": {},
   "outputs": [],
   "source": []
  },
  {
   "cell_type": "code",
   "execution_count": null,
   "id": "6ace4d13-aaa8-42e8-89ca-befa927bb4c4",
   "metadata": {},
   "outputs": [],
   "source": []
  },
  {
   "cell_type": "code",
   "execution_count": null,
   "id": "2e614938-631c-4a05-bb25-aae2a321d5ba",
   "metadata": {},
   "outputs": [],
   "source": []
  },
  {
   "cell_type": "code",
   "execution_count": null,
   "id": "1334b425-35c9-4e2f-aaef-3fac16b797ee",
   "metadata": {},
   "outputs": [],
   "source": []
  },
  {
   "cell_type": "code",
   "execution_count": null,
   "id": "34107f7d-15e8-4993-9238-e49244b714b2",
   "metadata": {},
   "outputs": [],
   "source": []
  },
  {
   "cell_type": "markdown",
   "id": "1b373cc0-7049-43e5-bfe9-136830d74144",
   "metadata": {},
   "source": [
    "# Block car with square or add car"
   ]
  },
  {
   "cell_type": "code",
   "execution_count": null,
   "id": "444e95d1-1593-417e-a65e-574cb049f85a",
   "metadata": {},
   "outputs": [],
   "source": [
    "saved_data=np.load(\"../runs/2021-05-03 12:14:43.522946/discrete_histories.npz\")\n"
   ]
  },
  {
   "cell_type": "code",
   "execution_count": null,
   "id": "a665c25c-d54f-44e2-b51e-c526f0656960",
   "metadata": {},
   "outputs": [],
   "source": [
    "def show_data_augmentations(saved_data=saved_data,n = 20, save=False):\n",
    "    saved_frame = saved_data[\"frames\"][n]\n",
    "    plt.figure(figsize=(10,10))\n",
    "    plt.imshow(saved_frame)\n",
    "    plt.axis('off')\n",
    "    if save:\n",
    "        plt.savefig(\"saved_frame_\"+str(n))\n",
    "    plt.show()\n",
    "    car = np.load(\"../car_positions.npz\")\n",
    "    frame_with_car = saved_frame.copy()\n",
    "    frame_with_car[np.where(car['frame'][:, :, 0] == 204)] = [204, 0, 0]\n",
    "    frame_with_car[np.where(car['frame'][:210, :, 0] == 0)] = [0, 0, 0]\n",
    "    plt.figure(figsize=(10,10))\n",
    "    plt.imshow(frame_with_car)\n",
    "    plt.axis('off')\n",
    "    if save:\n",
    "        plt.savefig(\"saved_frame_with_car_\"+str(n))\n",
    "    plt.show()\n",
    "    frame_with_block = saved_frame.copy()\n",
    "    frame_with_block[179:204,122:134,0]=128\n",
    "    frame_with_block[179:204,122:134,1]=0\n",
    "    frame_with_block[179:204,122:134,2]=128\n",
    "    plt.figure(figsize=(10,10))\n",
    "    plt.imshow(frame_with_block)\n",
    "    plt.axis('off')\n",
    "    if save:\n",
    "        plt.savefig(\"saved_frame_with_block_\"+str(n))\n",
    "    \n",
    "    frame_for_gan = saved_frame.copy()[:224,:]\n",
    "    plt.figure(figsize=(9.9,8.75))\n",
    "    plt.imshow(frame_for_gan)\n",
    "    plt.axis('off')\n",
    "    if save:\n",
    "        plt.savefig(\"saved_frame_GAN_\"+str(n))\n",
    "    plt.show()\n",
    "    \n",
    "    plt.show()"
   ]
  },
  {
   "cell_type": "code",
   "execution_count": null,
   "id": "91f268c9-d238-4821-9ba3-7e5be7f6adf2",
   "metadata": {},
   "outputs": [],
   "source": [
    "for n in range(0,380,75):\n",
    "    print(n)\n",
    "    show_data_augmentations(n=n,save=True)\n",
    "    print(saved_data[\"input_history\"][n],np.eye(4)[saved_data[\"input_history\"][n]-1])"
   ]
  },
  {
   "cell_type": "code",
   "execution_count": null,
   "id": "04662f26-5cb5-4230-9d67-09f06b9f36cb",
   "metadata": {},
   "outputs": [],
   "source": [
    "n=309\n",
    "show_data_augmentations(n=n,save=True)\n",
    "print(saved_data[\"input_history\"][n],np.eye(4)[saved_data[\"input_history\"][n]-1])"
   ]
  },
  {
   "cell_type": "markdown",
   "id": "77d1f523-1f4b-4c66-8fdd-eb4175348b3a",
   "metadata": {},
   "source": [
    "# Get car position from car"
   ]
  },
  {
   "cell_type": "code",
   "execution_count": 18,
   "id": "ca7b2c09-94b1-4efb-a7c8-fcdb14abf603",
   "metadata": {},
   "outputs": [],
   "source": [
    "loaded=np.load(\"../runs/2021-05-03 19:01:11.522731/discrete_histories.npz\")"
   ]
  },
  {
   "cell_type": "code",
   "execution_count": 19,
   "id": "a2ae55bb-106b-40fa-ace5-2d578d3aca6c",
   "metadata": {},
   "outputs": [
    {
     "name": "stdout",
     "output_type": "stream",
     "text": [
      "r_history\n",
      "input_history\n",
      "frames\n"
     ]
    }
   ],
   "source": [
    "for k in loaded.keys():\n",
    "    print(k)"
   ]
  },
  {
   "cell_type": "code",
   "execution_count": 20,
   "id": "0217047a-5cf7-4376-87bc-261cbe1e0ea7",
   "metadata": {},
   "outputs": [],
   "source": [
    "n=40"
   ]
  },
  {
   "cell_type": "code",
   "execution_count": 21,
   "id": "ff9a829d-eb23-4f92-8f6e-93b2c7a7f1b0",
   "metadata": {},
   "outputs": [
    {
     "data": {
      "text/plain": [
       "(288, 256, 3)"
      ]
     },
     "execution_count": 21,
     "metadata": {},
     "output_type": "execute_result"
    }
   ],
   "source": [
    "frame =loaded[\"frames\"][n]\n",
    "frame.shape\n"
   ]
  },
  {
   "cell_type": "code",
   "execution_count": 22,
   "id": "606d72d8-4d45-49e7-952e-f0632ae413ea",
   "metadata": {},
   "outputs": [
    {
     "name": "stdout",
     "output_type": "stream",
     "text": [
      "3\n"
     ]
    },
    {
     "data": {
      "image/png": "[encoded data removed]",
      "text/plain": [
       "<Figure size 720x720 with 1 Axes>"
      ]
     },
     "metadata": {
      "needs_background": "light"
     },
     "output_type": "display_data"
    }
   ],
   "source": [
    "\n",
    "print(loaded[\"input_history\"][n])\n",
    "plt.figure(figsize=(10,10))\n",
    "plt.imshow(frame)\n",
    "plt.axis('off')\n",
    "plt.savefig(\"original\")"
   ]
  },
  {
   "cell_type": "code",
   "execution_count": 23,
   "id": "c816182f",
   "metadata": {
    "collapsed": false,
    "jupyter": {
     "outputs_hidden": false
    },
    "pycharm": {
     "name": "#%%\n"
    }
   },
   "outputs": [
    {
     "name": "stdout",
     "output_type": "stream",
     "text": [
      "3\n"
     ]
    },
    {
     "data": {
      "image/png": "[encoded data removed]",
      "text/plain": [
       "<Figure size 720x720 with 1 Axes>"
      ]
     },
     "metadata": {
      "needs_background": "light"
     },
     "output_type": "display_data"
    }
   ],
   "source": [
    "\n",
    "print(loaded[\"input_history\"][n])\n",
    "plt.figure(figsize=(10,10))\n",
    "plt.imshow(frame[:257,:])\n",
    "plt.axis('off')\n",
    "plt.savefig(\"original\")"
   ]
  },
  {
   "cell_type": "code",
   "execution_count": 24,
   "id": "894655c5-03f9-402b-81b5-caf68cb1de48",
   "metadata": {},
   "outputs": [],
   "source": [
    "np.savez(\"../car_positions\", frame=frame)"
   ]
  },
  {
   "cell_type": "markdown",
   "id": "39d9747e-18f1-4fe1-bf2f-0d253879455d",
   "metadata": {},
   "source": [
    "New image"
   ]
  },
  {
   "cell_type": "code",
   "execution_count": 25,
   "id": "90342163-4353-4d97-98d9-5738a24b76c5",
   "metadata": {},
   "outputs": [],
   "source": [
    "loaded=np.load(\"../runs/2021-05-03 19:07:05.016662/discrete_histories.npz\")\n",
    "car = np.load(\"../car_positions.npz\")\n",
    "frame = loaded[\"frames\"][n]"
   ]
  },
  {
   "cell_type": "code",
   "execution_count": 26,
   "id": "2b7f42dc-b440-46e2-9945-866de6c89198",
   "metadata": {},
   "outputs": [
    {
     "data": {
      "text/plain": [
       "<matplotlib.image.AxesImage at 0x7ff6db4ab220>"
      ]
     },
     "execution_count": 26,
     "metadata": {},
     "output_type": "execute_result"
    },
    {
     "data": {
      "image/png": "[encoded data removed]",
      "text/plain": [
       "<Figure size 720x720 with 1 Axes>"
      ]
     },
     "metadata": {
      "needs_background": "light"
     },
     "output_type": "display_data"
    }
   ],
   "source": [
    "plt.figure(figsize=(10,10))\n",
    "\n",
    "plt.imshow(frame)"
   ]
  },
  {
   "cell_type": "code",
   "execution_count": 11,
   "id": "fb486130-dd43-4319-b770-2ff82de9c1fc",
   "metadata": {},
   "outputs": [
    {
     "data": {
      "text/plain": [
       "<matplotlib.image.AxesImage at 0x7ff6db788d90>"
      ]
     },
     "execution_count": 11,
     "metadata": {},
     "output_type": "execute_result"
    },
    {
     "data": {
      "image/png": "[encoded data removed]",
      "text/plain": [
       "<Figure size 720x720 with 1 Axes>"
      ]
     },
     "metadata": {
      "needs_background": "light"
     },
     "output_type": "display_data"
    }
   ],
   "source": [
    "plt.figure(figsize=(10,10))\n",
    "\n",
    "plt.imshow(car['frame'][:257,:])"
   ]
  },
  {
   "cell_type": "code",
   "execution_count": 12,
   "id": "768edfd4",
   "metadata": {
    "collapsed": false,
    "jupyter": {
     "outputs_hidden": false
    },
    "pycharm": {
     "name": "#%%\n"
    }
   },
   "outputs": [
    {
     "data": {
      "text/plain": [
       "(288, 256, 3)"
      ]
     },
     "execution_count": 12,
     "metadata": {},
     "output_type": "execute_result"
    }
   ],
   "source": [
    "car['frame'].shape"
   ]
  },
  {
   "cell_type": "code",
   "execution_count": 13,
   "id": "8625dbaa",
   "metadata": {
    "collapsed": false,
    "jupyter": {
     "outputs_hidden": false
    },
    "pycharm": {
     "name": "#%%\n"
    }
   },
   "outputs": [
    {
     "data": {
      "text/plain": [
       "(288, 256, 3)"
      ]
     },
     "execution_count": 13,
     "metadata": {},
     "output_type": "execute_result"
    }
   ],
   "source": [
    "frame.shape"
   ]
  },
  {
   "cell_type": "code",
   "execution_count": 16,
   "id": "3fe6a72b-3ce5-4d83-984a-b4fcff61fdc9",
   "metadata": {},
   "outputs": [
    {
     "data": {
      "text/plain": [
       "(-0.5, 255.5, 287.5, -0.5)"
      ]
     },
     "execution_count": 16,
     "metadata": {},
     "output_type": "execute_result"
    },
    {
     "data": {
      "image/png": "[encoded data removed]",
      "text/plain": [
       "<Figure size 720x720 with 1 Axes>"
      ]
     },
     "metadata": {
      "needs_background": "light"
     },
     "output_type": "display_data"
    }
   ],
   "source": [
    "frame[np.where(car['frame'][:,:,0]==204)]=[204,0,0]\n",
    "frame[np.where(car['frame'][:256,:,0]==0)]=[0,0,0]\n",
    "plt.figure(figsize=(10,10))\n",
    "plt.imshow(frame)\n",
    "plt.axis('off')"
   ]
  },
  {
   "cell_type": "code",
   "execution_count": null,
   "id": "09adbe15-f993-44d3-a704-f7e75fb588be",
   "metadata": {},
   "outputs": [],
   "source": []
  }
 ],
 "metadata": {
  "kernelspec": {
   "display_name": "Python 3",
   "language": "python",
   "name": "python3"
  },
  "language_info": {
   "codemirror_mode": {
    "name": "ipython",
    "version": 3
   },
   "file_extension": ".py",
   "mimetype": "text/x-python",
   "name": "python",
   "nbconvert_exporter": "python",
   "pygments_lexer": "ipython3",
   "version": "3.8.8"
  }
 },
 "nbformat": 4,
 "nbformat_minor": 5
}
