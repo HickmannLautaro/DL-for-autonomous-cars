{
 "cells": [
  {
   "cell_type": "code",
   "execution_count": 1,
   "id": "5fa92bdf-9df1-4bee-a9b7-789a1cc3e522",
   "metadata": {},
   "outputs": [],
   "source": [
    "import numpy as np\n",
    "import matplotlib.pyplot as plt\n",
    "from PIL import Image\n",
    "from skimage.color import rgb2gray\n",
    "from skimage import feature, filters\n",
    "\n",
    "from skimage.transform import hough_line, hough_line_peaks\n",
    "from matplotlib import cm\n",
    "\n",
    "\n",
    "from skimage.morphology import dilation, closing,white_tophat, disk\n",
    "from skimage import measure\n",
    "%matplotlib widget"
   ]
  },
  {
   "cell_type": "code",
   "execution_count": 2,
   "id": "090487b5-d072-435c-a2b3-25e74cc29c7a",
   "metadata": {},
   "outputs": [],
   "source": [
    "import glob\n",
    "class0 = glob.glob('patches/landscape-tree-water-forest-grass-road-1411714-pxhere.com.jpg/*')\n",
    "class1 = glob.glob('patches/ryan-searle-1jckkOd-GU8-unsplash.jpg/*')\n",
    "x_0 = np.array([np.asarray(Image.open(fname)) for fname in class0])\n",
    "x_1 = np.array([np.asarray(Image.open(fname)) for fname in class1])"
   ]
  },
  {
   "cell_type": "code",
   "execution_count": 3,
   "id": "f6965b70-683d-41b7-81c7-ebef78ea840b",
   "metadata": {},
   "outputs": [
    {
     "data": {
      "text/plain": [
       "(300, 256, 256, 3)"
      ]
     },
     "execution_count": 3,
     "metadata": {},
     "output_type": "execute_result"
    }
   ],
   "source": [
    "x_0.shape"
   ]
  },
  {
   "cell_type": "code",
   "execution_count": 4,
   "id": "44f31b83-c692-4862-a41a-6d49aa078e8b",
   "metadata": {},
   "outputs": [
    {
     "data": {
      "text/plain": [
       "(413, 256, 256, 3)"
      ]
     },
     "execution_count": 4,
     "metadata": {},
     "output_type": "execute_result"
    }
   ],
   "source": [
    "x_1.shape"
   ]
  },
  {
   "cell_type": "code",
   "execution_count": 5,
   "id": "32731712-d7d9-46bf-b96e-0cf8c8dca233",
   "metadata": {},
   "outputs": [],
   "source": [
    "saved_data=np.load(\"runs/2021-05-04 13:54:45.752992/discrete_histories.npz\")\n",
    "saved_frame = saved_data[\"frames\"][:,:256,:,:]"
   ]
  },
  {
   "cell_type": "code",
   "execution_count": 6,
   "id": "68837bd5-5f25-4a7e-82d5-7eff22fac9fa",
   "metadata": {},
   "outputs": [
    {
     "data": {
      "text/plain": [
       "(1000, 256, 256, 3)"
      ]
     },
     "execution_count": 6,
     "metadata": {},
     "output_type": "execute_result"
    }
   ],
   "source": [
    "saved_frame.shape"
   ]
  },
  {
   "cell_type": "code",
   "execution_count": 7,
   "id": "90f5db40-60a8-45b0-9cbc-1d5eaeebe98b",
   "metadata": {},
   "outputs": [
    {
     "data": {
      "text/plain": [
       "(713,)"
      ]
     },
     "execution_count": 7,
     "metadata": {},
     "output_type": "execute_result"
    }
   ],
   "source": [
    "stacked=np.vstack((x_0, x_1))\n",
    "labels=np.array([0]*x_0.shape[0]+[1]*x_1.shape[0])\n",
    "labels.shape"
   ]
  },
  {
   "cell_type": "code",
   "execution_count": 8,
   "id": "4e90e56c-f8b3-4e63-ab62-310f5f41e78f",
   "metadata": {},
   "outputs": [],
   "source": [
    "from numpy.random import default_rng\n",
    "from PIL import Image\n",
    "from numpy import asarray\n",
    "\n",
    "rng = default_rng()\n",
    "n=200\n",
    "numbers = rng.choice(stacked.shape[0], size=n, replace=False)\n",
    "numbers_open = rng.choice(saved_frame.shape[0], size=n, replace=False)\n"
   ]
  },
  {
   "cell_type": "code",
   "execution_count": null,
   "id": "9ddf76bd-fd88-4fcd-bb32-5d43002d34ed",
   "metadata": {},
   "outputs": [],
   "source": []
  },
  {
   "cell_type": "code",
   "execution_count": 9,
   "id": "6e5fde76-33b6-4887-9c84-eca0177eb010",
   "metadata": {},
   "outputs": [],
   "source": [
    "real_imgs=[stacked[numbers], labels[numbers]]"
   ]
  },
  {
   "cell_type": "code",
   "execution_count": 10,
   "id": "227d6991-bad9-4f89-a287-4088811cbdaa",
   "metadata": {},
   "outputs": [],
   "source": [
    "def seg_sim(image):\n",
    "    aux2=np.zeros((image.shape[0],256,256,1), dtype=np.uint8)\n",
    "    aux2[np.where(image[:,:256, :, 1] == 105)]= [255]\n",
    "    aux2[np.where(image[:,:256, :, 1] == 107)]= [255]\n",
    "    aux2[np.where(image[:,:256, :, 1] == 102)]= [255]\n",
    "    return aux2"
   ]
  },
  {
   "cell_type": "code",
   "execution_count": 11,
   "id": "18d4d030-2c9c-444d-9ea3-80eeb28291c4",
   "metadata": {},
   "outputs": [],
   "source": [
    "def do_canny(imgs,img_type):\n",
    "   \n",
    "    if img_type == 'real':\n",
    "        labels= imgs[1]\n",
    "        imgs=imgs[0]\n",
    "        img_gray = rgb2gray(imgs)\n",
    "        for i,_ in enumerate(img_gray):\n",
    "            if labels[i]==1:\n",
    "                #brown\n",
    "                img_gray[i][img_gray[i]<=0.5]=0\n",
    "                img_gray[i][img_gray[i]>0.5]=1\n",
    "            else:\n",
    "                #grey\n",
    "                img_gray[i] = feature.canny(img_gray[i], sigma=6, low_threshold=0.1)\n",
    "    \n",
    "        edges = img_gray # pointer magic\n",
    "    else:\n",
    "        img_gray = np.squeeze(seg_sim(imgs))\n",
    "        edges=np.array([feature.canny(img, sigma=3, low_threshold=0.2) for img in img_gray])\n",
    "    return edges"
   ]
  },
  {
   "cell_type": "code",
   "execution_count": 12,
   "id": "d83395d4-3b0b-47d0-8333-bffb24f9d3d2",
   "metadata": {},
   "outputs": [],
   "source": [
    "def do_canny_single(img, label,img_type):\n",
    "    if img_type == 'real':\n",
    "        img_gray = rgb2gray(img)\n",
    "        if label==1:\n",
    "            #brown\n",
    "            img_gray[img_gray<=0.5]=0\n",
    "            img_gray[img_gray>0.5]=1\n",
    "        else:\n",
    "            #grey\n",
    "            img_gray = feature.canny(img_gray, sigma=6, low_threshold=0.1)\n",
    "    \n",
    "        edges = img_gray # pointer magic\n",
    "    else:\n",
    "        img_gray = np.squeeze(seg_sim(img[None,:,:,:]))\n",
    "        edges=feature.canny(img_gray, sigma=3, low_threshold=0.2)\n",
    "    return edges"
   ]
  },
  {
   "cell_type": "code",
   "execution_count": 13,
   "id": "c011ed5d-fd27-410d-9510-ac79ec257bdd",
   "metadata": {},
   "outputs": [],
   "source": [
    "mask_width=20\n",
    "mask_1=np.zeros(shape=(256, 256))\n",
    "mask_1[0:mask_width,:]=1\n",
    "\n",
    "mask_2=np.zeros(shape=(256, 256))\n",
    "mask_2[:,-mask_width:]=1\n",
    "\n",
    "mask_3=np.zeros(shape=(256, 256))\n",
    "mask_3[-mask_width:,:]=1\n",
    "\n",
    "mask_4=np.zeros(shape=(256, 256))\n",
    "mask_4[:,0:mask_width]=1\n",
    "masks=[mask_1,mask_2,mask_3,mask_4]"
   ]
  },
  {
   "cell_type": "code",
   "execution_count": 14,
   "id": "06e72f21-f20d-442b-af9c-bbdd2bcd6dc7",
   "metadata": {},
   "outputs": [],
   "source": [
    "def test_direction(edges, direction, masks=masks):\n",
    "    filtered_edges=[]\n",
    "    titles=[]\n",
    "    mask = masks[direction-1]\n",
    "    for edge in edges:\n",
    "        if direction ==1 or direction ==3:\n",
    "            filtered=np.clip(filters.sobel_h(edge, mask),0,1)\n",
    "        else:\n",
    "            filtered=np.clip(filters.sobel_v(edge, mask),0,1)\n",
    "        filtered_edges.append(filtered)\n",
    "        titles.append(str(np.sum(filtered)))\n",
    "    return np.array(filtered_edges), titles"
   ]
  },
  {
   "cell_type": "code",
   "execution_count": 15,
   "id": "fd3a4269-9fa8-4b50-8cbf-403d1ec6630d",
   "metadata": {},
   "outputs": [],
   "source": [
    "def plot_images(img,fig,j,n,titles=None,rows=2):\n",
    "    for i in range(1,n+1):\n",
    "        fig.add_subplot(rows, n, j*n+i)\n",
    "        plt.imshow(img[i-1])\n",
    "        if titles is not None:\n",
    "            plt.title(titles[i-1])\n",
    "        plt.axis('off')"
   ]
  },
  {
   "cell_type": "code",
   "execution_count": 16,
   "id": "33422374-fba4-46ce-8446-b22e56d2fe62",
   "metadata": {},
   "outputs": [
    {
     "data": {
      "application/vnd.jupyter.widget-view+json": {
       "model_id": "c8c9be509e3247f38de24ec3c940db70",
       "version_major": 2,
       "version_minor": 0
      },
      "text/plain": [
       "Canvas(toolbar=Toolbar(toolitems=[('Home', 'Reset original view', 'home', 'home'), ('Back', 'Back to previous …"
      ]
     },
     "metadata": {},
     "output_type": "display_data"
    }
   ],
   "source": [
    "edges=do_canny(real_imgs,\"real\")\n",
    "fig=plt.figure(figsize=(50, 15))\n",
    "\n",
    "plot_images(real_imgs[0], fig,0,n)\n",
    "plot_images(edges, fig, 1, n)\n",
    "\n"
   ]
  },
  {
   "cell_type": "code",
   "execution_count": 17,
   "id": "e21b1095-f661-485e-81a6-686d469eb2aa",
   "metadata": {},
   "outputs": [],
   "source": [
    "\n",
    "def h_trasn(image,label,number):\n",
    "    # Classic straight-line Hough transform\n",
    "    \n",
    "    edge = do_canny_single(image,label,\"real\")\n",
    "    # Set a precision of 0.5 degree.\n",
    "    tested_angles = np.linspace(-np.pi / 2, np.pi / 2, 720, endpoint=False)\n",
    "    h, theta, d = hough_line(edge, theta=tested_angles)\n",
    "\n",
    "    # Generating figure 1\n",
    "    fig, axes = plt.subplots(1, 5, figsize=(25, 6))\n",
    "    fig.suptitle(f\"Image {number}\")\n",
    "    ax = axes.ravel()\n",
    "\n",
    "    ax[0].imshow(image, cmap=cm.gray)\n",
    "    ax[0].set_title('Input image')\n",
    "    ax[0].set_axis_off()\n",
    "    \n",
    "    \n",
    "    ax[1].imshow(edge, cmap=cm.gray)\n",
    "    ax[1].set_title('Canny edge detection')\n",
    "    ax[1].set_axis_off()\n",
    "\n",
    "\n",
    "\n",
    "    ax[2].imshow(edge, cmap=cm.gray)\n",
    "    ax[2].set_ylim((edge.shape[0], 0))\n",
    "    ax[2].set_xlim((0, edge.shape[1]))\n",
    "    ax[2].set_axis_off()\n",
    "    ax[2].set_title('Detected lines')\n",
    "    hspace, angles, dists = hough_line_peaks(h, theta, d)\n",
    "#     indexes = np.where(hspace > 0) # segment length filter\n",
    "#     hspace = hspace[indexes]\n",
    "#     angles = angles[indexes]\n",
    "#     dists =  dists[indexes]\n",
    "    \n",
    "    for _, angle, dist in zip(hspace, angles, dists):\n",
    "        (x0, y0) = dist * np.array([np.cos(angle), np.sin(angle)])\n",
    "        ax[2].axline((x0, y0), slope=np.tan(angle + np.pi/2))\n",
    "        \n",
    "    if angles.size !=0:\n",
    "        x_intersections=[]\n",
    "        y_intersections=[]\n",
    "        for i in range(angles.shape[0]):\n",
    "            for j in range(angles.shape[0]):\n",
    "                a1 =angles[i]\n",
    "                d1 =dists[i]\n",
    "                a2 =angles[j]\n",
    "                d2 = dists[j]\n",
    "                if (a1 % np.pi) - (a2 % np.pi) !=0:\n",
    "                    m1 = np.tan(a1 + np.pi/2)\n",
    "                    (x1, y1) = d1 * np.array([np.cos(a1), np.sin(a1)])\n",
    "                    m2 = np.tan(a2 + np.pi/2)\n",
    "                    (x2, y2) = d2 * np.array([np.cos(a2), np.sin(a2)])\n",
    "                    x_int = ((m2*x2 - m1*x1) - (y2-y1))/(m2-m1)\n",
    "                    y_int = m1*(x_int-x1)+y1\n",
    "                    if x_int > 0 and x_int<256 and y_int > 0 and y_int<256: \n",
    "                        x_intersections.append(x_int)\n",
    "                        y_intersections.append(y_int)\n",
    "        ax[2].scatter(x_intersections,y_intersections, color='r')\n",
    "        \n",
    "        if len(x_intersections) >0 :\n",
    "            \n",
    "            mymodel_intersec = np.poly1d(np.polyfit(x_intersections, y_intersections, 2))\n",
    "\n",
    "            myline = np.linspace(0, 256, 100)\n",
    "\n",
    "            ax[2].plot(myline,mymodel_intersec(myline),'--r')\n",
    "\n",
    "    \n",
    "    \n",
    " \n",
    "        \n",
    "    closed = closing(edge, disk(20))\n",
    "    ax[3].imshow(closed, cmap=cm.gray)\n",
    "    ax[3].set_title('closing')\n",
    "    ax[3].set_axis_off()\n",
    "    \n",
    "    wt= white_tophat(closed, disk(1))\n",
    "    \n",
    "    \n",
    "    \n",
    "    \n",
    "    x,y=np.where(wt >0.5)\n",
    "    if x.size !=0:\n",
    "        mymodel = np.poly1d(np.polyfit(x, y, 2))\n",
    "\n",
    "        myline = np.linspace(0, 256, 100)\n",
    "\n",
    "        ax[4].imshow(wt, cmap=cm.gray)\n",
    "        ax[4].set_title('white tophat')\n",
    "        ax[4].set_axis_off()\n",
    "        ax[4].plot(mymodel(myline),myline)\n",
    "        ax[4].set_ylim((edge.shape[0], 0))\n",
    "        ax[4].set_xlim((0, edge.shape[1]))\n",
    "    \n",
    "    plt.tight_layout()\n",
    "    plt.show()\n",
    "    \n",
    "    \n",
    "    tresh=10\n",
    "    bottom= np.sum(edge[-10:,:])\n",
    "    print(\"hspace\",hspace)\n",
    "    print(\"angles\",np.rad2deg(angles))\n",
    "    print(\"dists\", dists)\n",
    "    if angles.size !=0 and bottom > 0:\n",
    "        mean_angle = np.rad2deg(np.mean(angles))\n",
    "        print(\"mean angle\",mean_angle)\n",
    "        if mean_angle < - tresh:\n",
    "            print(\"left curve\")\n",
    "        elif mean_angle > tresh:\n",
    "            print(\"right curve\")\n",
    "        elif mean_angle >= -tresh and mean_angle <= tresh:\n",
    "            print(\"Straight road\")\n",
    "        else:\n",
    "            print(\"Undefined\")\n",
    "    else:\n",
    "        print(\"Undefined\")\n",
    "    \n",
    "    print(\"Fitted curve method\")\n",
    "    if bottom > 0:\n",
    "        d2 =np.polyder(mymodel,m=2)\n",
    "        d2 = d2(0)*1000\n",
    "        if d2 < -0.5 :\n",
    "            print(\"left curve\")\n",
    "        elif d2> 0.5:\n",
    "            print(\"right curve\")\n",
    "        else:\n",
    "            print(\"Straight road\")\n",
    "        \n",
    "        print(\"d2\", d2)\n",
    "    else:\n",
    "        print(\"Undefined\")"
   ]
  },
  {
   "cell_type": "code",
   "execution_count": 18,
   "id": "04aa86dd-fbb0-4445-96cc-9974ac48c11a",
   "metadata": {},
   "outputs": [
    {
     "data": {
      "application/vnd.jupyter.widget-view+json": {
       "model_id": "c10e28567ad84f0a94ffe1ea0fd07945",
       "version_major": 2,
       "version_minor": 0
      },
      "text/plain": [
       "Canvas(toolbar=Toolbar(toolitems=[('Home', 'Reset original view', 'home', 'home'), ('Back', 'Back to previous …"
      ]
     },
     "metadata": {},
     "output_type": "display_data"
    },
    {
     "name": "stdout",
     "output_type": "stream",
     "text": [
      "hspace [135 133]\n",
      "angles [12.75 10.  ]\n",
      "dists [127.67586207 173.73931034]\n",
      "mean angle 11.375000000000005\n",
      "right curve\n",
      "Fitted curve method\n",
      "right curve\n",
      "d2 2.8825172749799663\n"
     ]
    }
   ],
   "source": [
    "i =4\n",
    "h_trasn(stacked[numbers][i], labels[numbers][i],i)"
   ]
  },
  {
   "cell_type": "code",
   "execution_count": 19,
   "id": "d8c3bdf7-437e-4fd4-a58c-17d77d29c201",
   "metadata": {
    "tags": []
   },
   "outputs": [],
   "source": [
    "#for i, (img,label) in enumerate(zip(stacked[numbers], labels[numbers])):\n",
    "#    h_trasn(img,label,i)"
   ]
  },
  {
   "cell_type": "code",
   "execution_count": null,
   "id": "5095e696-4dd3-478c-a4a7-f509d32c95d8",
   "metadata": {},
   "outputs": [],
   "source": []
  },
  {
   "cell_type": "code",
   "execution_count": 20,
   "id": "5e0b6763-5ac4-4235-8d7d-926a7ae3456d",
   "metadata": {},
   "outputs": [],
   "source": [
    "\n",
    "def h_trasn_simple(image,label,number, img_type=\"real\"):\n",
    "    # Classic straight-line Hough transform\n",
    "    \n",
    "    edge = do_canny_single(image,label, img_type)\n",
    "\n",
    "    # Generating figure 1\n",
    "    fig, axes = plt.subplots(1, 4, figsize=(25, 6))\n",
    "    \n",
    "    ax = axes.ravel()\n",
    "\n",
    "    ax[0].imshow(image, cmap=cm.gray)\n",
    "    ax[0].set_title('Input image')\n",
    "    ax[0].set_axis_off()\n",
    "    \n",
    "    ax[1].imshow(edge, cmap=cm.gray)\n",
    "    ax[1].set_title('Canny edge detection')\n",
    "    ax[1].set_axis_off()\n",
    "   \n",
    "\n",
    "\n",
    "    if img_type==\"real\":\n",
    "        closed = closing(edge, disk(20))\n",
    "\n",
    "        wt= white_tophat(closed, disk(1))\n",
    "\n",
    "\n",
    "        \n",
    "    else:\n",
    "        wt = edge\n",
    "    \n",
    "    r = dilation(wt, disk(2))\n",
    "    r = np.pad(r,2)\n",
    "    contours = measure.find_contours(r, 0.8)\n",
    "\n",
    "    \n",
    "    myline = np.linspace(0, 256, 100)\n",
    "    \n",
    "    \n",
    "    ax[2].imshow(r, cmap=cm.gray)\n",
    "    ax[2].set_title('Prossesed (closing + white_tophat + dilation + padding + contours)')\n",
    "    ax[2].set_axis_off()\n",
    "    for contour in contours:\n",
    "        ax[2].plot(contour[:, 1], contour[:, 0], linewidth=2)\n",
    " \n",
    "    \n",
    "    ax[3].imshow(np.zeros(edge.shape),cmap=cm.gray)\n",
    "    ax[3].set_title('Fitted curve and points')\n",
    "    ax[3].set_axis_off()\n",
    "    \n",
    "    road_type =\"Undefined\"\n",
    "    \n",
    "    defined =True\n",
    "    if len(contours) !=0:\n",
    "        contours=contours[np.argmax([c.shape[0] for c in contours ])]    \n",
    "   \n",
    "        x = np.vstack(contours)[:,0]\n",
    "        y = np.vstack(contours)[:,1]\n",
    "   \n",
    "        ax[3].scatter(y,x)\n",
    "   \n",
    "        mymodel = np.poly1d(np.polyfit(x, y, 2))\n",
    "        line =mymodel(myline)\n",
    "        \n",
    "        \n",
    "        if mymodel(256) > 300 or  mymodel(256) < -50:\n",
    "            defined = False\n",
    "            \n",
    "        ax[3].plot(line,myline, \"--r\")\n",
    "    else:\n",
    "        defined = False\n",
    "        road_type=\"No road\"\n",
    "    ax[3].set_ylim((edge.shape[0], 0))\n",
    "    ax[3].set_xlim((0, edge.shape[1]))\n",
    "    \n",
    "    \n",
    "    \n",
    "\n",
    "    bottom= np.sum(edge[-20:,:])\n",
    "    if bottom > 10 and defined:\n",
    "        d2 =np.polyder(mymodel,m=2)\n",
    "        d2 = d2(0)*1000\n",
    "        if d2 < -1 :\n",
    "            road_type=\"left curve\"\n",
    "        elif d2> 1:\n",
    "            road_type=\"right curve\"\n",
    "        else:\n",
    "            road_type=\"Straight road\"\n",
    "        \n",
    "        road_type=f\"{road_type}\\nd2: {d2}\"\n",
    "   \n",
    "        \n",
    "    \n",
    "    fig.suptitle(f\"Image {number}  {road_type}\")\n",
    "    plt.tight_layout()\n",
    "    plt.show()\n"
   ]
  },
  {
   "cell_type": "code",
   "execution_count": null,
   "id": "fe15f1c8-089c-4d52-b325-3e7d4c7b2d3d",
   "metadata": {},
   "outputs": [],
   "source": []
  },
  {
   "cell_type": "code",
   "execution_count": 21,
   "id": "8d8cd9e0-4ef9-43d1-a675-0c1d3a15e528",
   "metadata": {},
   "outputs": [
    {
     "data": {
      "application/vnd.jupyter.widget-view+json": {
       "model_id": "dcd348b29b6f489bb8a186885e6a2b34",
       "version_major": 2,
       "version_minor": 0
      },
      "text/plain": [
       "Canvas(toolbar=Toolbar(toolitems=[('Home', 'Reset original view', 'home', 'home'), ('Back', 'Back to previous …"
      ]
     },
     "metadata": {},
     "output_type": "display_data"
    }
   ],
   "source": [
    "n=66\n",
    "img = stacked[numbers][n]\n",
    "label = labels[numbers][n]\n",
    "h_trasn_simple(img,label,n)"
   ]
  },
  {
   "cell_type": "code",
   "execution_count": 22,
   "id": "18d2ffd0-43da-4677-a3ba-3d930e747256",
   "metadata": {},
   "outputs": [
    {
     "data": {
      "application/vnd.jupyter.widget-view+json": {
       "model_id": "0df29dcd3ef141ba9ea867f548b61969",
       "version_major": 2,
       "version_minor": 0
      },
      "text/plain": [
       "Canvas(toolbar=Toolbar(toolitems=[('Home', 'Reset original view', 'home', 'home'), ('Back', 'Back to previous …"
      ]
     },
     "metadata": {},
     "output_type": "display_data"
    }
   ],
   "source": [
    "n=60\n",
    "img = stacked[numbers][n]\n",
    "label = labels[numbers][n]\n",
    "h_trasn_simple(img,label,n)"
   ]
  },
  {
   "cell_type": "code",
   "execution_count": 23,
   "id": "84762876-cd83-4c52-b314-5dc0d8a1da8f",
   "metadata": {},
   "outputs": [
    {
     "name": "stdout",
     "output_type": "stream",
     "text": [
      "1\n"
     ]
    },
    {
     "data": {
      "application/vnd.jupyter.widget-view+json": {
       "model_id": "ad2de6f391da468bbf5ad282c4c7d25c",
       "version_major": 2,
       "version_minor": 0
      },
      "text/plain": [
       "Canvas(toolbar=Toolbar(toolitems=[('Home', 'Reset original view', 'home', 'home'), ('Back', 'Back to previous …"
      ]
     },
     "metadata": {},
     "output_type": "display_data"
    }
   ],
   "source": [
    "n=11\n",
    "img = stacked[numbers][n]\n",
    "label = labels[numbers][n]\n",
    "print(label)\n",
    "h_trasn_simple(img,label,n)\n"
   ]
  },
  {
   "cell_type": "code",
   "execution_count": 24,
   "id": "c4ae8658-b83c-4c6c-8e17-9358bee4edc0",
   "metadata": {},
   "outputs": [
    {
     "data": {
      "application/vnd.jupyter.widget-view+json": {
       "model_id": "328a7f98695d4b23a7554bf53ff5bbc8",
       "version_major": 2,
       "version_minor": 0
      },
      "text/plain": [
       "Canvas(toolbar=Toolbar(toolitems=[('Home', 'Reset original view', 'home', 'home'), ('Back', 'Back to previous …"
      ]
     },
     "metadata": {},
     "output_type": "display_data"
    }
   ],
   "source": [
    "n=4\n",
    "img = stacked[numbers][n]\n",
    "label = labels[numbers][n]\n",
    "h_trasn_simple(img,label,n)"
   ]
  },
  {
   "cell_type": "code",
   "execution_count": 25,
   "id": "d70a8cdd-6ac1-4443-9ff7-a71c1c99829c",
   "metadata": {},
   "outputs": [
    {
     "data": {
      "application/vnd.jupyter.widget-view+json": {
       "model_id": "695370b954924289bc209d1ae315384a",
       "version_major": 2,
       "version_minor": 0
      },
      "text/plain": [
       "Canvas(toolbar=Toolbar(toolitems=[('Home', 'Reset original view', 'home', 'home'), ('Back', 'Back to previous …"
      ]
     },
     "metadata": {},
     "output_type": "display_data"
    }
   ],
   "source": [
    "n=72\n",
    "img = stacked[numbers][n]\n",
    "label = labels[numbers][n]\n",
    "h_trasn_simple(img,label,n)"
   ]
  },
  {
   "cell_type": "code",
   "execution_count": 26,
   "id": "20b7433a-9ae5-496f-af0b-c4164968f9d5",
   "metadata": {},
   "outputs": [
    {
     "data": {
      "text/plain": [
       "<matplotlib.image.AxesImage at 0x7f25280d9a30>"
      ]
     },
     "execution_count": 26,
     "metadata": {},
     "output_type": "execute_result"
    }
   ],
   "source": [
    "n=72\n",
    "img = stacked[numbers][n]\n",
    "label = labels[numbers][n]\n",
    "plt.imshow(img) #h_trasn_simple(img,label,n)"
   ]
  },
  {
   "cell_type": "code",
   "execution_count": 27,
   "id": "e2c48aa8-02bc-459b-b9bc-016291b5f293",
   "metadata": {
    "tags": []
   },
   "outputs": [],
   "source": [
    "# x_0_filt = x_0[np.array([4,5,6,7,8,11,23,25,29,37,41,48,64,71])]\n",
    "# for i, (img,label) in enumerate(zip(x_0_filt, np.zeros(x_0_filt.shape[0]))):\n",
    "#     h_trasn_simple(img,label,i)"
   ]
  },
  {
   "cell_type": "code",
   "execution_count": 28,
   "id": "efc236a1-98d5-4cb6-8900-2ce7be503d8a",
   "metadata": {
    "tags": []
   },
   "outputs": [],
   "source": [
    "# for i, (img,label) in enumerate(zip(stacked[numbers], labels[numbers])):\n",
    "#     h_trasn_simple(img,label,i)"
   ]
  },
  {
   "cell_type": "code",
   "execution_count": 29,
   "id": "27220964-fde2-44a3-9f6d-0b8a28bbead1",
   "metadata": {
    "tags": []
   },
   "outputs": [],
   "source": [
    "# for i, (img,label) in enumerate(zip(x_1, np.ones(x_1.shape[0]))):\n",
    "#     h_trasn_simple(img,label,i)"
   ]
  },
  {
   "cell_type": "code",
   "execution_count": 30,
   "id": "ce03aa23-a31d-430d-a206-109c0d37a226",
   "metadata": {},
   "outputs": [
    {
     "data": {
      "application/vnd.jupyter.widget-view+json": {
       "model_id": "a1c4d39ed7104a949943e50b975fd740",
       "version_major": 2,
       "version_minor": 0
      },
      "text/plain": [
       "Canvas(toolbar=Toolbar(toolitems=[('Home', 'Reset original view', 'home', 'home'), ('Back', 'Back to previous …"
      ]
     },
     "metadata": {},
     "output_type": "display_data"
    }
   ],
   "source": [
    "i=0\n",
    "img = saved_frame[numbers_open][i]\n",
    "h_trasn_simple(img,None,i, img_type=\"OpenAI\")"
   ]
  },
  {
   "cell_type": "code",
   "execution_count": 31,
   "id": "94982716-df9d-49f6-930a-9c495dd43060",
   "metadata": {},
   "outputs": [
    {
     "data": {
      "application/vnd.jupyter.widget-view+json": {
       "model_id": "16192abf54da4477b4dd603211cffe7e",
       "version_major": 2,
       "version_minor": 0
      },
      "text/plain": [
       "Canvas(toolbar=Toolbar(toolitems=[('Home', 'Reset original view', 'home', 'home'), ('Back', 'Back to previous …"
      ]
     },
     "metadata": {},
     "output_type": "display_data"
    }
   ],
   "source": [
    "i=10\n",
    "img = saved_frame[numbers_open][i]\n",
    "h_trasn_simple(img,None,i, img_type=\"OpenAI\")"
   ]
  },
  {
   "cell_type": "code",
   "execution_count": 32,
   "id": "caac1133-eb7a-4e48-bc5d-7f08e9ee9e34",
   "metadata": {},
   "outputs": [
    {
     "data": {
      "application/vnd.jupyter.widget-view+json": {
       "model_id": "f1ea49f175654a25ae249d0c5366ee40",
       "version_major": 2,
       "version_minor": 0
      },
      "text/plain": [
       "Canvas(toolbar=Toolbar(toolitems=[('Home', 'Reset original view', 'home', 'home'), ('Back', 'Back to previous …"
      ]
     },
     "metadata": {},
     "output_type": "display_data"
    }
   ],
   "source": [
    "i=5\n",
    "img = saved_frame[numbers_open][i]\n",
    "h_trasn_simple(img,None,i, img_type=\"OpenAI\")"
   ]
  },
  {
   "cell_type": "code",
   "execution_count": 33,
   "id": "24d6fcab-9b12-4d0f-9a14-29d8f2710027",
   "metadata": {
    "tags": []
   },
   "outputs": [],
   "source": [
    "# for i, img in enumerate(saved_frame[numbers_open]):\n",
    "#     h_trasn_simple(img,None,i, img_type=\"OpenAI\")"
   ]
  },
  {
   "cell_type": "code",
   "execution_count": 34,
   "id": "39c6d3de-8ce8-4d53-8901-77cbbc8e2be6",
   "metadata": {},
   "outputs": [],
   "source": [
    "def curvature(image,label, img_type=\"real\"):\n",
    "    \"\"\"\n",
    "    returns: 1:left\n",
    "             2:straight\n",
    "             3:right\n",
    "             4:no road\n",
    "             5:undefined\n",
    "    \"\"\"\n",
    "    # Classic straight-line Hough transform\n",
    "    \n",
    "    edge = do_canny_single(image,label, img_type)\n",
    "\n",
    "    if img_type==\"real\":\n",
    "        closed = closing(edge, disk(20))\n",
    "\n",
    "        wt= white_tophat(closed, disk(1))\n",
    "\n",
    "    else:\n",
    "        wt = edge\n",
    "\n",
    "    \n",
    "\n",
    "    r = dilation(wt, disk(2))\n",
    "    r = np.pad(r,2)\n",
    "    contours = measure.find_contours(r, 0.8)\n",
    "\n",
    "    \n",
    "    road_type =5\n",
    "    defined =True\n",
    "    if len(contours) !=0:\n",
    "        contours=contours[np.argmax([c.shape[0] for c in contours ])]    \n",
    "   \n",
    "        x = np.vstack(contours)[:,0]\n",
    "        y = np.vstack(contours)[:,1]\n",
    "   \n",
    "   \n",
    "        mymodel = np.poly1d(np.polyfit(x, y, 2))\n",
    "        \n",
    "        \n",
    "        if mymodel(256) > 300 or  mymodel(256) < -50:\n",
    "            defined = False\n",
    "    else:\n",
    "        defined = False\n",
    "        road_type=4\n",
    "        \n",
    "    bottom= np.sum(edge[-20:,:])\n",
    "    if bottom > 10 and defined:\n",
    "        d2 =np.polyder(mymodel,m=2)\n",
    "        d2 = d2(0)*1000\n",
    "        if d2 < -1 :\n",
    "            road_type = 1\n",
    "        elif d2> 1:\n",
    "            road_type= 3\n",
    "        else:\n",
    "            road_type= 2\n",
    "    return road_type\n",
    "    \n",
    "    "
   ]
  },
  {
   "cell_type": "code",
   "execution_count": 36,
   "id": "a82d01c1-134b-47ad-b1ad-9141788aaf43",
   "metadata": {},
   "outputs": [],
   "source": [
    "x_0_curv =[curvature(img,label) for img,label in zip(x_0, np.zeros(x_0.shape[0]))]"
   ]
  },
  {
   "cell_type": "code",
   "execution_count": 37,
   "id": "860895de-037a-4443-85f0-ee1cec1e3c66",
   "metadata": {},
   "outputs": [
    {
     "ename": "KeyboardInterrupt",
     "evalue": "",
     "output_type": "error",
     "traceback": [
      "\u001b[0;31m---------------------------------------------------------------------------\u001b[0m",
      "\u001b[0;31mKeyboardInterrupt\u001b[0m                         Traceback (most recent call last)",
      "\u001b[0;32m<ipython-input-37-5b42b169f4ed>\u001b[0m in \u001b[0;36m<module>\u001b[0;34m\u001b[0m\n\u001b[0;32m----> 1\u001b[0;31m \u001b[0mx_1_curv\u001b[0m \u001b[0;34m=\u001b[0m \u001b[0;34m[\u001b[0m\u001b[0mcurvature\u001b[0m\u001b[0;34m(\u001b[0m\u001b[0mimg\u001b[0m\u001b[0;34m,\u001b[0m\u001b[0mlabel\u001b[0m\u001b[0;34m)\u001b[0m \u001b[0;32mfor\u001b[0m \u001b[0mimg\u001b[0m\u001b[0;34m,\u001b[0m\u001b[0mlabel\u001b[0m \u001b[0;32min\u001b[0m \u001b[0mzip\u001b[0m\u001b[0;34m(\u001b[0m\u001b[0mx_1\u001b[0m\u001b[0;34m,\u001b[0m \u001b[0mnp\u001b[0m\u001b[0;34m.\u001b[0m\u001b[0mones\u001b[0m\u001b[0;34m(\u001b[0m\u001b[0mx_1\u001b[0m\u001b[0;34m.\u001b[0m\u001b[0mshape\u001b[0m\u001b[0;34m[\u001b[0m\u001b[0;36m0\u001b[0m\u001b[0;34m]\u001b[0m\u001b[0;34m)\u001b[0m\u001b[0;34m)\u001b[0m\u001b[0;34m]\u001b[0m\u001b[0;34m\u001b[0m\u001b[0;34m\u001b[0m\u001b[0m\n\u001b[0m",
      "\u001b[0;32m<ipython-input-37-5b42b169f4ed>\u001b[0m in \u001b[0;36m<listcomp>\u001b[0;34m(.0)\u001b[0m\n\u001b[0;32m----> 1\u001b[0;31m \u001b[0mx_1_curv\u001b[0m \u001b[0;34m=\u001b[0m \u001b[0;34m[\u001b[0m\u001b[0mcurvature\u001b[0m\u001b[0;34m(\u001b[0m\u001b[0mimg\u001b[0m\u001b[0;34m,\u001b[0m\u001b[0mlabel\u001b[0m\u001b[0;34m)\u001b[0m \u001b[0;32mfor\u001b[0m \u001b[0mimg\u001b[0m\u001b[0;34m,\u001b[0m\u001b[0mlabel\u001b[0m \u001b[0;32min\u001b[0m \u001b[0mzip\u001b[0m\u001b[0;34m(\u001b[0m\u001b[0mx_1\u001b[0m\u001b[0;34m,\u001b[0m \u001b[0mnp\u001b[0m\u001b[0;34m.\u001b[0m\u001b[0mones\u001b[0m\u001b[0;34m(\u001b[0m\u001b[0mx_1\u001b[0m\u001b[0;34m.\u001b[0m\u001b[0mshape\u001b[0m\u001b[0;34m[\u001b[0m\u001b[0;36m0\u001b[0m\u001b[0;34m]\u001b[0m\u001b[0;34m)\u001b[0m\u001b[0;34m)\u001b[0m\u001b[0;34m]\u001b[0m\u001b[0;34m\u001b[0m\u001b[0;34m\u001b[0m\u001b[0m\n\u001b[0m",
      "\u001b[0;32m<ipython-input-34-4dcc3844172a>\u001b[0m in \u001b[0;36mcurvature\u001b[0;34m(image, label, img_type)\u001b[0m\n\u001b[1;32m     12\u001b[0m \u001b[0;34m\u001b[0m\u001b[0m\n\u001b[1;32m     13\u001b[0m     \u001b[0;32mif\u001b[0m \u001b[0mimg_type\u001b[0m\u001b[0;34m==\u001b[0m\u001b[0;34m\"real\"\u001b[0m\u001b[0;34m:\u001b[0m\u001b[0;34m\u001b[0m\u001b[0;34m\u001b[0m\u001b[0m\n\u001b[0;32m---> 14\u001b[0;31m         \u001b[0mclosed\u001b[0m \u001b[0;34m=\u001b[0m \u001b[0mclosing\u001b[0m\u001b[0;34m(\u001b[0m\u001b[0medge\u001b[0m\u001b[0;34m,\u001b[0m \u001b[0mdisk\u001b[0m\u001b[0;34m(\u001b[0m\u001b[0;36m20\u001b[0m\u001b[0;34m)\u001b[0m\u001b[0;34m)\u001b[0m\u001b[0;34m\u001b[0m\u001b[0;34m\u001b[0m\u001b[0m\n\u001b[0m\u001b[1;32m     15\u001b[0m \u001b[0;34m\u001b[0m\u001b[0m\n\u001b[1;32m     16\u001b[0m         \u001b[0mwt\u001b[0m\u001b[0;34m=\u001b[0m \u001b[0mwhite_tophat\u001b[0m\u001b[0;34m(\u001b[0m\u001b[0mclosed\u001b[0m\u001b[0;34m,\u001b[0m \u001b[0mdisk\u001b[0m\u001b[0;34m(\u001b[0m\u001b[0;36m1\u001b[0m\u001b[0;34m)\u001b[0m\u001b[0;34m)\u001b[0m\u001b[0;34m\u001b[0m\u001b[0;34m\u001b[0m\u001b[0m\n",
      "\u001b[0;32m~/miniconda3/envs/DL_CAR/lib/python3.8/site-packages/skimage/morphology/misc.py\u001b[0m in \u001b[0;36mfunc_out\u001b[0;34m(image, selem, *args, **kwargs)\u001b[0m\n\u001b[1;32m     37\u001b[0m         \u001b[0;32mif\u001b[0m \u001b[0mselem\u001b[0m \u001b[0;32mis\u001b[0m \u001b[0;32mNone\u001b[0m\u001b[0;34m:\u001b[0m\u001b[0;34m\u001b[0m\u001b[0;34m\u001b[0m\u001b[0m\n\u001b[1;32m     38\u001b[0m             \u001b[0mselem\u001b[0m \u001b[0;34m=\u001b[0m \u001b[0m_default_selem\u001b[0m\u001b[0;34m(\u001b[0m\u001b[0mimage\u001b[0m\u001b[0;34m.\u001b[0m\u001b[0mndim\u001b[0m\u001b[0;34m)\u001b[0m\u001b[0;34m\u001b[0m\u001b[0;34m\u001b[0m\u001b[0m\n\u001b[0;32m---> 39\u001b[0;31m         \u001b[0;32mreturn\u001b[0m \u001b[0mfunc\u001b[0m\u001b[0;34m(\u001b[0m\u001b[0mimage\u001b[0m\u001b[0;34m,\u001b[0m \u001b[0mselem\u001b[0m\u001b[0;34m=\u001b[0m\u001b[0mselem\u001b[0m\u001b[0;34m,\u001b[0m \u001b[0;34m*\u001b[0m\u001b[0margs\u001b[0m\u001b[0;34m,\u001b[0m \u001b[0;34m**\u001b[0m\u001b[0mkwargs\u001b[0m\u001b[0;34m)\u001b[0m\u001b[0;34m\u001b[0m\u001b[0;34m\u001b[0m\u001b[0m\n\u001b[0m\u001b[1;32m     40\u001b[0m \u001b[0;34m\u001b[0m\u001b[0m\n\u001b[1;32m     41\u001b[0m     \u001b[0;32mreturn\u001b[0m \u001b[0mfunc_out\u001b[0m\u001b[0;34m\u001b[0m\u001b[0;34m\u001b[0m\u001b[0m\n",
      "\u001b[0;32m~/miniconda3/envs/DL_CAR/lib/python3.8/site-packages/skimage/morphology/grey.py\u001b[0m in \u001b[0;36mfunc_out\u001b[0;34m(image, selem, out, *args, **kwargs)\u001b[0m\n\u001b[1;32m    120\u001b[0m         \u001b[0;32melse\u001b[0m\u001b[0;34m:\u001b[0m\u001b[0;34m\u001b[0m\u001b[0;34m\u001b[0m\u001b[0m\n\u001b[1;32m    121\u001b[0m             \u001b[0mout_temp\u001b[0m \u001b[0;34m=\u001b[0m \u001b[0mout\u001b[0m\u001b[0;34m\u001b[0m\u001b[0;34m\u001b[0m\u001b[0m\n\u001b[0;32m--> 122\u001b[0;31m         \u001b[0mout_temp\u001b[0m \u001b[0;34m=\u001b[0m \u001b[0mfunc\u001b[0m\u001b[0;34m(\u001b[0m\u001b[0mimage\u001b[0m\u001b[0;34m,\u001b[0m \u001b[0mselem\u001b[0m\u001b[0;34m,\u001b[0m \u001b[0mout\u001b[0m\u001b[0;34m=\u001b[0m\u001b[0mout_temp\u001b[0m\u001b[0;34m,\u001b[0m \u001b[0;34m*\u001b[0m\u001b[0margs\u001b[0m\u001b[0;34m,\u001b[0m \u001b[0;34m**\u001b[0m\u001b[0mkwargs\u001b[0m\u001b[0;34m)\u001b[0m\u001b[0;34m\u001b[0m\u001b[0;34m\u001b[0m\u001b[0m\n\u001b[0m\u001b[1;32m    123\u001b[0m         \u001b[0;32mif\u001b[0m \u001b[0mpadding\u001b[0m\u001b[0;34m:\u001b[0m\u001b[0;34m\u001b[0m\u001b[0;34m\u001b[0m\u001b[0m\n\u001b[1;32m    124\u001b[0m             \u001b[0mout\u001b[0m\u001b[0;34m[\u001b[0m\u001b[0;34m:\u001b[0m\u001b[0;34m]\u001b[0m \u001b[0;34m=\u001b[0m \u001b[0mcrop\u001b[0m\u001b[0;34m(\u001b[0m\u001b[0mout_temp\u001b[0m\u001b[0;34m,\u001b[0m \u001b[0mpad_widths\u001b[0m\u001b[0;34m)\u001b[0m\u001b[0;34m\u001b[0m\u001b[0;34m\u001b[0m\u001b[0m\n",
      "\u001b[0;32m~/miniconda3/envs/DL_CAR/lib/python3.8/site-packages/skimage/morphology/grey.py\u001b[0m in \u001b[0;36mclosing\u001b[0;34m(image, selem, out)\u001b[0m\n\u001b[1;32m    347\u001b[0m \u001b[0;34m\u001b[0m\u001b[0m\n\u001b[1;32m    348\u001b[0m     \"\"\"\n\u001b[0;32m--> 349\u001b[0;31m     \u001b[0mdilated\u001b[0m \u001b[0;34m=\u001b[0m \u001b[0mdilation\u001b[0m\u001b[0;34m(\u001b[0m\u001b[0mimage\u001b[0m\u001b[0;34m,\u001b[0m \u001b[0mselem\u001b[0m\u001b[0;34m)\u001b[0m\u001b[0;34m\u001b[0m\u001b[0;34m\u001b[0m\u001b[0m\n\u001b[0m\u001b[1;32m    350\u001b[0m     \u001b[0;31m# note: shift_x, shift_y do nothing if selem side length is odd\u001b[0m\u001b[0;34m\u001b[0m\u001b[0;34m\u001b[0m\u001b[0;34m\u001b[0m\u001b[0m\n\u001b[1;32m    351\u001b[0m     \u001b[0mout\u001b[0m \u001b[0;34m=\u001b[0m \u001b[0merosion\u001b[0m\u001b[0;34m(\u001b[0m\u001b[0mdilated\u001b[0m\u001b[0;34m,\u001b[0m \u001b[0mselem\u001b[0m\u001b[0;34m,\u001b[0m \u001b[0mout\u001b[0m\u001b[0;34m=\u001b[0m\u001b[0mout\u001b[0m\u001b[0;34m,\u001b[0m \u001b[0mshift_x\u001b[0m\u001b[0;34m=\u001b[0m\u001b[0;32mTrue\u001b[0m\u001b[0;34m,\u001b[0m \u001b[0mshift_y\u001b[0m\u001b[0;34m=\u001b[0m\u001b[0;32mTrue\u001b[0m\u001b[0;34m)\u001b[0m\u001b[0;34m\u001b[0m\u001b[0;34m\u001b[0m\u001b[0m\n",
      "\u001b[0;32m~/miniconda3/envs/DL_CAR/lib/python3.8/site-packages/skimage/morphology/misc.py\u001b[0m in \u001b[0;36mfunc_out\u001b[0;34m(image, selem, *args, **kwargs)\u001b[0m\n\u001b[1;32m     37\u001b[0m         \u001b[0;32mif\u001b[0m \u001b[0mselem\u001b[0m \u001b[0;32mis\u001b[0m \u001b[0;32mNone\u001b[0m\u001b[0;34m:\u001b[0m\u001b[0;34m\u001b[0m\u001b[0;34m\u001b[0m\u001b[0m\n\u001b[1;32m     38\u001b[0m             \u001b[0mselem\u001b[0m \u001b[0;34m=\u001b[0m \u001b[0m_default_selem\u001b[0m\u001b[0;34m(\u001b[0m\u001b[0mimage\u001b[0m\u001b[0;34m.\u001b[0m\u001b[0mndim\u001b[0m\u001b[0;34m)\u001b[0m\u001b[0;34m\u001b[0m\u001b[0;34m\u001b[0m\u001b[0m\n\u001b[0;32m---> 39\u001b[0;31m         \u001b[0;32mreturn\u001b[0m \u001b[0mfunc\u001b[0m\u001b[0;34m(\u001b[0m\u001b[0mimage\u001b[0m\u001b[0;34m,\u001b[0m \u001b[0mselem\u001b[0m\u001b[0;34m=\u001b[0m\u001b[0mselem\u001b[0m\u001b[0;34m,\u001b[0m \u001b[0;34m*\u001b[0m\u001b[0margs\u001b[0m\u001b[0;34m,\u001b[0m \u001b[0;34m**\u001b[0m\u001b[0mkwargs\u001b[0m\u001b[0;34m)\u001b[0m\u001b[0;34m\u001b[0m\u001b[0;34m\u001b[0m\u001b[0m\n\u001b[0m\u001b[1;32m     40\u001b[0m \u001b[0;34m\u001b[0m\u001b[0m\n\u001b[1;32m     41\u001b[0m     \u001b[0;32mreturn\u001b[0m \u001b[0mfunc_out\u001b[0m\u001b[0;34m\u001b[0m\u001b[0;34m\u001b[0m\u001b[0m\n",
      "\u001b[0;32m~/miniconda3/envs/DL_CAR/lib/python3.8/site-packages/skimage/morphology/grey.py\u001b[0m in \u001b[0;36mdilation\u001b[0;34m(image, selem, out, shift_x, shift_y)\u001b[0m\n\u001b[1;32m    249\u001b[0m     \u001b[0;32mif\u001b[0m \u001b[0mout\u001b[0m \u001b[0;32mis\u001b[0m \u001b[0;32mNone\u001b[0m\u001b[0;34m:\u001b[0m\u001b[0;34m\u001b[0m\u001b[0;34m\u001b[0m\u001b[0m\n\u001b[1;32m    250\u001b[0m         \u001b[0mout\u001b[0m \u001b[0;34m=\u001b[0m \u001b[0mnp\u001b[0m\u001b[0;34m.\u001b[0m\u001b[0mempty_like\u001b[0m\u001b[0;34m(\u001b[0m\u001b[0mimage\u001b[0m\u001b[0;34m)\u001b[0m\u001b[0;34m\u001b[0m\u001b[0;34m\u001b[0m\u001b[0m\n\u001b[0;32m--> 251\u001b[0;31m     \u001b[0mndi\u001b[0m\u001b[0;34m.\u001b[0m\u001b[0mgrey_dilation\u001b[0m\u001b[0;34m(\u001b[0m\u001b[0mimage\u001b[0m\u001b[0;34m,\u001b[0m \u001b[0mfootprint\u001b[0m\u001b[0;34m=\u001b[0m\u001b[0mselem\u001b[0m\u001b[0;34m,\u001b[0m \u001b[0moutput\u001b[0m\u001b[0;34m=\u001b[0m\u001b[0mout\u001b[0m\u001b[0;34m)\u001b[0m\u001b[0;34m\u001b[0m\u001b[0;34m\u001b[0m\u001b[0m\n\u001b[0m\u001b[1;32m    252\u001b[0m     \u001b[0;32mreturn\u001b[0m \u001b[0mout\u001b[0m\u001b[0;34m\u001b[0m\u001b[0;34m\u001b[0m\u001b[0m\n\u001b[1;32m    253\u001b[0m \u001b[0;34m\u001b[0m\u001b[0m\n",
      "\u001b[0;32m~/.local/lib/python3.8/site-packages/scipy/ndimage/morphology.py\u001b[0m in \u001b[0;36mgrey_dilation\u001b[0;34m(input, size, footprint, structure, output, mode, cval, origin)\u001b[0m\n\u001b[1;32m   1367\u001b[0m             \u001b[0morigin\u001b[0m\u001b[0;34m[\u001b[0m\u001b[0mii\u001b[0m\u001b[0;34m]\u001b[0m \u001b[0;34m-=\u001b[0m \u001b[0;36m1\u001b[0m\u001b[0;34m\u001b[0m\u001b[0;34m\u001b[0m\u001b[0m\n\u001b[1;32m   1368\u001b[0m \u001b[0;34m\u001b[0m\u001b[0m\n\u001b[0;32m-> 1369\u001b[0;31m     return filters._min_or_max_filter(input, size, footprint, structure,\n\u001b[0m\u001b[1;32m   1370\u001b[0m                                       output, mode, cval, origin, 0)\n\u001b[1;32m   1371\u001b[0m \u001b[0;34m\u001b[0m\u001b[0m\n",
      "\u001b[0;32m~/.local/lib/python3.8/site-packages/scipy/ndimage/filters.py\u001b[0m in \u001b[0;36m_min_or_max_filter\u001b[0;34m(input, size, footprint, structure, output, mode, cval, origin, minimum)\u001b[0m\n\u001b[1;32m   1085\u001b[0m                 \"footprints\")\n\u001b[1;32m   1086\u001b[0m         \u001b[0mmode\u001b[0m \u001b[0;34m=\u001b[0m \u001b[0m_ni_support\u001b[0m\u001b[0;34m.\u001b[0m\u001b[0m_extend_mode_to_code\u001b[0m\u001b[0;34m(\u001b[0m\u001b[0mmode\u001b[0m\u001b[0;34m)\u001b[0m\u001b[0;34m\u001b[0m\u001b[0;34m\u001b[0m\u001b[0m\n\u001b[0;32m-> 1087\u001b[0;31m         _nd_image.min_or_max_filter(input, footprint, structure, output,\n\u001b[0m\u001b[1;32m   1088\u001b[0m                                     mode, cval, origins, minimum)\n\u001b[1;32m   1089\u001b[0m     \u001b[0;32mif\u001b[0m \u001b[0mtemp_needed\u001b[0m\u001b[0;34m:\u001b[0m\u001b[0;34m\u001b[0m\u001b[0;34m\u001b[0m\u001b[0m\n",
      "\u001b[0;31mKeyboardInterrupt\u001b[0m: "
     ]
    }
   ],
   "source": [
    "x_1_curv = [curvature(img,label) for img,label in zip(x_1, np.ones(x_1.shape[0]))]"
   ]
  },
  {
   "cell_type": "code",
   "execution_count": null,
   "id": "9d679428-2746-4ea2-a5a8-bef72ffa288d",
   "metadata": {},
   "outputs": [],
   "source": [
    "OpenAI_curv = [curvature(img,None, img_type= \"OpenAI\") for img in saved_frame]"
   ]
  },
  {
   "cell_type": "code",
   "execution_count": null,
   "id": "0c4ba830-9a4e-4141-8894-f3ef9855f69d",
   "metadata": {},
   "outputs": [],
   "source": [
    "def autolabel(rects):\n",
    "    \"\"\"\n",
    "    Attach a text label above each bar displaying its height\n",
    "    \"\"\"\n",
    "    for rect in rects:\n",
    "        height = rect.get_height()\n",
    "        plt.text(rect.get_x() + rect.get_width()/2., 1.0*height,\n",
    "                '%d' % int(height),\n",
    "                ha='center', va='bottom')"
   ]
  },
  {
   "cell_type": "code",
   "execution_count": null,
   "id": "2a02a7dc-7063-46fc-81cb-2b1a8586b83b",
   "metadata": {},
   "outputs": [],
   "source": [
    "fig = plt.figure(figsize=(15,5))\n",
    "X = np.arange(4)\n",
    "\n",
    "plt.title(f\"Dataset target distribution for: \\nStyle 0 dataset {x_0.shape[0]} examples,\\nStyle 1 dataset {x_1.shape[0]} examples,\\nOpenAI dataset {saved_frame.shape[0]} examples\")\n",
    "\n",
    "\n",
    "x_0_rect=plt.bar(X + 0.00,np.unique(x_0_curv, return_counts=True)[1], color = 'b', width = 0.25)\n",
    "x_1_rect=plt.bar(X + 0.25,np.unique(x_1_curv, return_counts=True)[1], color = 'g', width = 0.25)\n",
    "AI_rect=plt.bar(X + 0.5,np.hstack((np.unique(OpenAI_curv, return_counts=True)[1],0)), color = 'orange', width = 0.25)\n",
    "\n",
    "plt.legend(labels=['style 0', 'style 1', 'OpenAI'])\n",
    "autolabel(x_0_rect)\n",
    "autolabel(x_1_rect)\n",
    "autolabel(AI_rect)\n",
    "\n",
    "plt.xticks(X, [\"left\",\"straight\", \"right\", \"no road\", \"undefined\"])\n",
    "plt.show()\n"
   ]
  },
  {
   "cell_type": "code",
   "execution_count": null,
   "id": "ead8a317-863e-4f22-b825-edf0b2038dff",
   "metadata": {
    "tags": []
   },
   "outputs": [],
   "source": [
    "print(\"Style 0\")\n",
    "plt.imshow(x_0[0])"
   ]
  },
  {
   "cell_type": "code",
   "execution_count": null,
   "id": "5e596a36-cde8-4e3f-baf6-ec27d1ae5573",
   "metadata": {},
   "outputs": [],
   "source": [
    "print(\"Style 1\")\n",
    "plt.imshow(x_1[0])"
   ]
  },
  {
   "cell_type": "code",
   "execution_count": null,
   "id": "ae80c3ea-aafe-4524-8aa7-ea4101c6722a",
   "metadata": {},
   "outputs": [],
   "source": [
    "print(\"OpenAI\")\n",
    "plt.imshow(saved_frame[0])"
   ]
  },
  {
   "cell_type": "code",
   "execution_count": null,
   "id": "90a22182-8489-4781-8a9c-298b9f8e4563",
   "metadata": {},
   "outputs": [],
   "source": [
    "def h_trasn_simple(image,label,number, img_type, row , ax, fig):\n",
    "    # Classic straight-line Hough transform\n",
    "    \n",
    "    edge = do_canny_single(image,label, img_type)\n",
    "\n",
    "    # Generating figure 1\n",
    "    \n",
    "\n",
    "    ax[row, 0].imshow(image, cmap=cm.gray)\n",
    "    ax[row, 0].set_title('Input image')\n",
    "    ax[row, 0].set_axis_off()\n",
    "    \n",
    "    ax[row, 1].imshow(edge, cmap=cm.gray)\n",
    "    ax[row, 1].set_title('Canny edge detection')\n",
    "    ax[row, 1].set_axis_off()\n",
    "   \n",
    "\n",
    "\n",
    "    if img_type==\"real\":\n",
    "        closed = closing(edge, disk(20))\n",
    "\n",
    "        wt= white_tophat(closed, disk(1))\n",
    "\n",
    "\n",
    "        \n",
    "    else:\n",
    "        wt = edge\n",
    "    \n",
    "    r = dilation(wt, disk(2))\n",
    "    r = np.pad(r,2)\n",
    "    contours = measure.find_contours(r, 0.8)\n",
    "\n",
    "    \n",
    "    myline = np.linspace(0, 256, 100)\n",
    "    \n",
    "    \n",
    "    ax[row, 2].imshow(r, cmap=cm.gray)\n",
    "    ax[row, 2].set_title('Prossesed (closing + white_tophat + dilation + padding + contours)')\n",
    "    ax[row, 2].set_axis_off()\n",
    "    for contour in contours:\n",
    "        ax[row, 2].plot(contour[:, 1], contour[:, 0], linewidth=2)\n",
    " \n",
    "    \n",
    "    ax[row, 3].imshow(np.zeros(edge.shape),cmap=cm.gray)\n",
    "    ax[row, 3].set_title('Fitted curve and points')\n",
    "    ax[row, 3].set_axis_off()\n",
    "    \n",
    "    road_type =\"Undefined\"\n",
    "    \n",
    "    defined =True\n",
    "    if len(contours) !=0:\n",
    "        contours=contours[np.argmax([c.shape[0] for c in contours ])]    \n",
    "   \n",
    "        x = np.vstack(contours)[:,0]\n",
    "        y = np.vstack(contours)[:,1]\n",
    "   \n",
    "        ax[row, 3].scatter(y,x)\n",
    "   \n",
    "        mymodel = np.poly1d(np.polyfit(x, y, 2))\n",
    "        line =mymodel(myline)\n",
    "        \n",
    "        \n",
    "        if mymodel(256) > 300 or  mymodel(256) < -50:\n",
    "            defined = False\n",
    "            \n",
    "        ax[row, 3].plot(line,myline, \"--r\")\n",
    "    else:\n",
    "        defined = False\n",
    "        road_type=\"No road\"\n",
    "    ax[row, 3].set_ylim((edge.shape[0], 0))\n",
    "    ax[row, 3].set_xlim((0, edge.shape[1]))\n",
    "    \n",
    "    \n",
    "    \n",
    "\n",
    "    bottom= np.sum(edge[-20:,:])\n",
    "    if bottom > 10 and defined:\n",
    "        d2 =np.polyder(mymodel,m=2)\n",
    "        d2 = d2(0)*1000\n",
    "        if d2 < -1 :\n",
    "            road_type=\"left curve\"\n",
    "        elif d2> 1:\n",
    "            road_type=\"right curve\"\n",
    "        else:\n",
    "            road_type=\"Straight road\"\n",
    "        \n",
    "        road_type=f\"{road_type}\\nd2: {d2}\"\n",
    "   \n",
    "        \n",
    "    \n",
    "    fig.suptitle(f\"Image {number}  {road_type}\")\n",
    "    return ax,fig\n",
    "\n",
    "def curve_detectin(openAI_data,real_style_0,real_style_1)\n",
    "    n=0\n",
    "    fig, ax = plt.subplots(3, 4, figsize=(20, 10))\n",
    "\n",
    "    ax,fig= h_trasn_simple(openAI_data[n],None,n, \"OpenAI\", 0 , ax, fig)\n",
    "\n",
    "    ax,fig= h_trasn_simple(real_style_0[n],0,n, \"real\", 1 , ax, fig)\n",
    "\n",
    "    ax,fig= h_trasn_simple(real_style_1[n],1,n, \"real\", 2 , ax, fig)\n",
    "    plt.tight_layout()\n",
    "\n",
    "    def update(n):\n",
    "        ax,fig= h_trasn_simple(openAI_data[n],None,n, \"OpenAI\", 0 , ax, fig)\n",
    "\n",
    "        ax,fig= h_trasn_simple(real_style_0[n],0,n, \"real\", 1 , ax, fig)\n",
    "\n",
    "        ax,fig= h_trasn_simple(real_style_1[n],1,n, \"real\", 2 , ax, fig)\n",
    "\n",
    "    \n",
    "    anim = FuncAnimation(fig, update, frames=frames, interval=400, save_count=sys.maxsize)\n",
    "    anim.save(f'Slides/curves.gif', dpi=150, writer='imagemagick')\n",
    "    print(f'Slides/curves.gif done')\n",
    "    return anim"
   ]
  },
  {
   "cell_type": "code",
   "execution_count": null,
   "id": "3d4c9a8d-dd2a-4e93-840c-ea741dc9b87a",
   "metadata": {},
   "outputs": [],
   "source": [
    "def curve_detectin(openAI_data,real_style_0,real_style_1)\n",
    "    n=0\n",
    "    fig, ax = plt.subplots(3, 4, figsize=(20, 10))\n",
    "\n",
    "    ax,fig= h_trasn_simple(openAI_data[n],None,n, \"OpenAI\", 0 , ax, fig)\n",
    "\n",
    "    ax,fig= h_trasn_simple(real_style_0[n],0,n, \"real\", 1 , ax, fig)\n",
    "\n",
    "    ax,fig= h_trasn_simple(real_style_1[n],1,n, \"real\", 2 , ax, fig)\n",
    "    plt.tight_layout()\n",
    "\n",
    "    def update(n):\n",
    "        ax,fig= h_trasn_simple(openAI_data[n],None,n, \"OpenAI\", 0 , ax, fig)\n",
    "\n",
    "        ax,fig= h_trasn_simple(real_style_0[n],0,n, \"real\", 1 , ax, fig)\n",
    "\n",
    "        ax,fig= h_trasn_simple(real_style_1[n],1,n, \"real\", 2 , ax, fig)\n",
    "\n",
    "    \n",
    "    anim = FuncAnimation(fig, update, frames=frames, interval=400, save_count=sys.maxsize)\n",
    "    anim.save(f'Slides/curves.gif', dpi=150, writer='imagemagick')\n",
    "    print(f'Slides/curves.gif done')\n",
    "    return anim"
   ]
  },
  {
   "cell_type": "code",
   "execution_count": null,
   "id": "5947858b-9853-4687-8437-038db3d9f4ed",
   "metadata": {},
   "outputs": [],
   "source": [
    "def curve_detectin(openAI_data,real_style_0,real_style_1):\n",
    "    def h_trasn_simple(image,label,number, img_type, row ):\n",
    "        # Classic straight-line Hough transform\n",
    "\n",
    "        edge = do_canny_single(image,label, img_type)\n",
    "\n",
    "        # Generating figure 1\n",
    "\n",
    "        ax[row, 0].imshow(image, cmap=cm.gray)\n",
    "        ax[row, 0].set_title('Input image')\n",
    "        ax[row, 0].set_axis_off()\n",
    "\n",
    "        ax[row, 1].imshow(edge, cmap=cm.gray)\n",
    "        ax[row, 1].set_title('Canny edge detection')\n",
    "        ax[row, 1].set_axis_off()\n",
    "\n",
    "\n",
    "\n",
    "        if img_type==\"real\":\n",
    "            closed = closing(edge, disk(20))\n",
    "\n",
    "            wt= white_tophat(closed, disk(1))\n",
    "\n",
    "\n",
    "\n",
    "        else:\n",
    "            wt = edge\n",
    "\n",
    "        r = dilation(wt, disk(2))\n",
    "        r = np.pad(r,2)\n",
    "        contours = measure.find_contours(r, 0.8)\n",
    "\n",
    "\n",
    "        myline = np.linspace(0, 256, 100)\n",
    "\n",
    "\n",
    "        ax[row, 2].imshow(r, cmap=cm.gray)\n",
    "        ax[row, 2].set_title('Prossesed (closing + white_tophat + dilation + padding + contours)')\n",
    "        ax[row, 2].set_axis_off()\n",
    "        for contour in contours:\n",
    "            ax[row, 2].plot(contour[:, 1], contour[:, 0], linewidth=2)\n",
    "\n",
    "\n",
    "        ax[row, 3].imshow(np.zeros(edge.shape),cmap=cm.gray)\n",
    "        ax[row, 3].set_title('Fitted curve and points')\n",
    "        ax[row, 3].set_axis_off()\n",
    "\n",
    "        road_type =\"Undefined\"\n",
    "\n",
    "        defined =True\n",
    "        if len(contours) !=0:\n",
    "            contours=contours[np.argmax([c.shape[0] for c in contours ])]    \n",
    "\n",
    "            x = np.vstack(contours)[:,0]\n",
    "            y = np.vstack(contours)[:,1]\n",
    "\n",
    "            ax[row, 3].scatter(y,x)\n",
    "\n",
    "            mymodel = np.poly1d(np.polyfit(x, y, 2))\n",
    "            line =mymodel(myline)\n",
    "\n",
    "\n",
    "            if mymodel(256) > 300 or  mymodel(256) < -50:\n",
    "                defined = False\n",
    "\n",
    "            ax[row, 3].plot(line,myline, \"--r\")\n",
    "        else:\n",
    "            defined = False\n",
    "            road_type=\"No road\"\n",
    "        ax[row, 3].set_ylim((edge.shape[0], 0))\n",
    "        ax[row, 3].set_xlim((0, edge.shape[1]))\n",
    "\n",
    "\n",
    "\n",
    "\n",
    "        bottom= np.sum(edge[-20:,:])\n",
    "        if bottom > 10 and defined:\n",
    "            d2 =np.polyder(mymodel,m=2)\n",
    "            d2 = d2(0)*1000\n",
    "            if d2 < -1 :\n",
    "                road_type=\"left curve\"\n",
    "            elif d2> 1:\n",
    "                road_type=\"right curve\"\n",
    "            else:\n",
    "                road_type=\"Straight road\"\n",
    "\n",
    "            road_type=f\"{road_type}\\nd2: {d2}\"\n",
    "\n",
    "\n",
    "\n",
    "        fig.suptitle(f\"Image {number}  {road_type}\")\n",
    "   \n",
    "    n=0\n",
    "    fig, ax = plt.subplots(3, 4, figsize=(20, 10))\n",
    "\n",
    "    h_trasn_simple(openAI_data[n],None,n, \"OpenAI\", 0)\n",
    "\n",
    "    h_trasn_simple(real_style_0[n],0,n, \"real\", 1 )\n",
    "\n",
    "    h_trasn_simple(real_style_1[n],1,n, \"real\", 2 )\n",
    "    plt.tight_layout()\n",
    "\n",
    "    def update(n):\n",
    "        h_trasn_simpfor i, img in enumerate(saved_frame[numbers_open]):\n",
    "#     h_trasn_simple(img,None,i, img_type=\"OpenAI\")le(openAI_data[n],None,n, \"OpenAI\", 0 )\n",
    "\n",
    "        h_trasn_simple(real_style_0[n],0,n, \"real\", 1 )\n",
    "\n",
    "        h_trasn_simple(real_style_1[n],1,n, \"real\", 2)\n",
    "\n",
    "    \n",
    "    anim = FuncAnimation(fig, update, frames=frames, interval=400, save_count=sys.maxsize)\n",
    "    anim.save(f'Slides/curves.gif', dpi=150, writer='imagemagick')\n",
    "    print(f'Slides/curves.gif done')\n",
    "    return anim"
   ]
  },
  {
   "cell_type": "code",
   "execution_count": null,
   "id": "970551bb-928e-49c0-88fd-d480dfaa678d",
   "metadata": {},
   "outputs": [],
   "source": [
    "#curve_detectin(openAI_data,real_style_0,real_style_1)"
   ]
  },
  {
   "cell_type": "code",
   "execution_count": null,
   "id": "f25e8afa-2f5c-43ba-a46a-466032c36013",
   "metadata": {},
   "outputs": [],
   "source": [
    "n=0\n",
    "fig, ax = plt.subplots(3, 1, figsize=(20, 15))\n",
    "\n",
    "ax[0]= h_trasn_simple(openAI_data[n],None,n, \"OpenAI\", 0)\n",
    "\n",
    "ax[1]= h_trasn_simple(real_style_0[n],0,n, \"real\", 1)\n",
    "\n",
    "ax[2]= h_trasn_simple(real_style_1[n],1,n, \"real\", 2)\n",
    "plt.tight_layout()\n",
    "\n",
    "  "
   ]
  },
  {
   "cell_type": "code",
   "execution_count": null,
   "id": "f87f0315-4520-431c-831f-dc461021220c",
   "metadata": {},
   "outputs": [],
   "source": [
    "i=0\n",
    "img = saved_frame[numbers_open][i]\n",
    "openAI_data = [img]"
   ]
  },
  {
   "cell_type": "code",
   "execution_count": null,
   "id": "6f01e3d3-fa06-42f2-80a3-0289a464ac21",
   "metadata": {},
   "outputs": [],
   "source": [
    "h_trasn_simple(img,None,i, img_type=\"OpenAI\")"
   ]
  },
  {
   "cell_type": "code",
   "execution_count": null,
   "id": "858aa641-b786-4b92-863c-8036d67214c4",
   "metadata": {},
   "outputs": [],
   "source": [
    "n=11\n",
    "real_style_0 = [stacked[numbers][11]]\n",
    "h_trasn_simple(img,label,n)\n"
   ]
  },
  {
   "cell_type": "code",
   "execution_count": null,
   "id": "9594f37c-6b4a-444a-958e-d1781d208409",
   "metadata": {},
   "outputs": [],
   "source": [
    "plt.imshow(stacked[numbers][n])"
   ]
  },
  {
   "cell_type": "code",
   "execution_count": null,
   "id": "11a5336c-7258-4f76-bec0-dd966542ae80",
   "metadata": {},
   "outputs": [],
   "source": [
    "n=72\n",
    "real_style_1 = [stacked[numbers][n]]\n",
    "plt.imshow(stacked[numbers][n])"
   ]
  },
  {
   "cell_type": "code",
   "execution_count": null,
   "id": "2b623e26-1bd5-409b-9fa7-bc48747040f0",
   "metadata": {},
   "outputs": [],
   "source": [
    "label = labels[numbers][n]\n",
    "h_trasn_simple(img,label,n)"
   ]
  },
  {
   "cell_type": "code",
   "execution_count": null,
   "id": "d73bd515-11ad-4b7a-b632-4aed86eb1083",
   "metadata": {},
   "outputs": [],
   "source": [
    "experiments, OpenAI_edges, gan_data_0_edges, gan_data_1_edges"
   ]
  },
  {
   "cell_type": "code",
   "execution_count": null,
   "id": "214dc218-9350-4655-a5b0-7cfd501b9bba",
   "metadata": {},
   "outputs": [],
   "source": []
  },
  {
   "cell_type": "code",
   "execution_count": null,
   "id": "1e4158ff-123d-49e9-9e29-eaf4413376db",
   "metadata": {},
   "outputs": [],
   "source": []
  },
  {
   "cell_type": "code",
   "execution_count": 39,
   "id": "fd7ba89e-7553-4cbe-a0e1-9fa65fe07c65",
   "metadata": {},
   "outputs": [
    {
     "ename": "NameError",
     "evalue": "name 'loaded' is not defined",
     "output_type": "error",
     "traceback": [
      "\u001b[0;31m---------------------------------------------------------------------------\u001b[0m",
      "\u001b[0;31mNameError\u001b[0m                                 Traceback (most recent call last)",
      "\u001b[0;32m<ipython-input-39-f269084857e2>\u001b[0m in \u001b[0;36m<module>\u001b[0;34m\u001b[0m\n\u001b[0;32m----> 1\u001b[0;31m \u001b[0mexperiments\u001b[0m \u001b[0;34m=\u001b[0m \u001b[0mloaded\u001b[0m\u001b[0;34m[\u001b[0m\u001b[0;34m\"frames\"\u001b[0m\u001b[0;34m]\u001b[0m\u001b[0;34m\u001b[0m\u001b[0;34m\u001b[0m\u001b[0m\n\u001b[0m",
      "\u001b[0;31mNameError\u001b[0m: name 'loaded' is not defined"
     ]
    }
   ],
   "source": [
    "experiments = loaded[\"frames\"]\n"
   ]
  },
  {
   "cell_type": "code",
   "execution_count": null,
   "id": "7ff70a82-670f-473e-9d62-1108000d6503",
   "metadata": {},
   "outputs": [],
   "source": []
  }
 ],
 "metadata": {
  "kernelspec": {
   "display_name": "Python 3",
   "language": "python",
   "name": "python3"
  },
  "language_info": {
   "codemirror_mode": {
    "name": "ipython",
    "version": 3
   },
   "file_extension": ".py",
   "mimetype": "text/x-python",
   "name": "python",
   "nbconvert_exporter": "python",
   "pygments_lexer": "ipython3",
   "version": "3.8.8"
  }
 },
 "nbformat": 4,
 "nbformat_minor": 5
}
